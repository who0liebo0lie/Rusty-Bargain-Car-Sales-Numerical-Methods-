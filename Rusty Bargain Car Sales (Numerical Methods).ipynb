{
 "cells": [
  {
   "cell_type": "markdown",
   "metadata": {},
   "source": [
    "## Rusty Bargain (ML+ Numerical Methods)"
   ]
  },
  {
   "cell_type": "markdown",
   "metadata": {},
   "source": [
    "Rusty Bargain data (/datasets/car_data.csv) will be used to train different models with various hyperparameters.  Comparision will made of \n",
    "gradient boosting methods (from LightGBM with hyperparameter tuning) with random forest, decision tree, and linear regression (for sanity checks). Analyzation of the speed and quality \n",
    "of the models will be performed. RMSE metric will be used to evaluate the models.\n",
    "\n",
    "Features\n",
    "DateCrawled — date profile was downloaded from the database\n",
    "VehicleType — vehicle body type\n",
    "RegistrationYear — vehicle registration year\n",
    "Gearbox — gearbox type\n",
    "Power — power (hp)\n",
    "Model — vehicle model\n",
    "Mileage — mileage (measured in km due to dataset's regional specifics)\n",
    "RegistrationMonth — vehicle registration month\n",
    "FuelType — fuel type\n",
    "Brand — vehicle brand\n",
    "NotRepaired — vehicle repaired or not\n",
    "DateCreated — date of profile creation\n",
    "NumberOfPictures — number of vehicle pictures\n",
    "PostalCode — postal code of profile owner (user)\n",
    "LastSeen — date of the last activity of the user\n",
    "\n",
    "Target\n",
    "Price — price (Euro)"
   ]
  },
  {
   "cell_type": "markdown",
   "metadata": {},
   "source": [
    "## Data preparation"
   ]
  },
  {
   "cell_type": "code",
   "execution_count": 1,
   "metadata": {},
   "outputs": [],
   "source": [
    "import numpy as np\n",
    "import pandas as pd\n",
    "\n",
    "import time\n",
    "\n",
    "#import named regression models \n",
    "from sklearn.linear_model import LinearRegression\n",
    "from sklearn.ensemble import RandomForestRegressor\n",
    "from sklearn.tree import DecisionTreeRegressor\n",
    "from sklearn.ensemble import GradientBoostingRegressor\n",
    "\n",
    "#import ability to split into training and testing data sets \n",
    "from sklearn.model_selection import train_test_split\n",
    "\n",
    "#import ability to evaluate accuracy of data \n",
    "from sklearn.metrics import mean_squared_error\n",
    "from sklearn.metrics import accuracy_score\n",
    "\n",
    "\n",
    "from joblib import dump\n",
    "\n",
    "#needed to compare. \n",
    "from sklearn.utils import shuffle\n",
    "from sklearn.utils import resample\n",
    "from sklearn.metrics import f1_score\n",
    "from sklearn.metrics import r2_score\n",
    "from sklearn.metrics import roc_curve\n",
    "from sklearn.metrics import roc_auc_score\n",
    "from sklearn.model_selection import GridSearchCV\n",
    "from sklearn.metrics import mean_squared_error\n",
    "from sklearn.model_selection import cross_val_predict\n",
    "from sklearn.preprocessing import StandardScaler\n",
    "\n",
    "\n",
    "import seaborn as sns\n",
    "\n",
    "\n",
    "import sklearn.linear_model\n",
    "import sklearn.metrics\n",
    "import sklearn.neighbors\n",
    "import sklearn.preprocessing\n",
    "import pandas as pd\n",
    "from sklearn.preprocessing import OrdinalEncoder\n",
    "\n",
    "from IPython.display import display\n",
    "\n",
    "import lightgbm as lgb"
   ]
  },
  {
   "cell_type": "code",
   "execution_count": 2,
   "metadata": {},
   "outputs": [
    {
     "name": "stdout",
     "output_type": "stream",
     "text": [
      "<class 'pandas.core.frame.DataFrame'>\n",
      "RangeIndex: 354369 entries, 0 to 354368\n",
      "Data columns (total 16 columns):\n",
      " #   Column             Non-Null Count   Dtype \n",
      "---  ------             --------------   ----- \n",
      " 0   DateCrawled        354369 non-null  object\n",
      " 1   Price              354369 non-null  int64 \n",
      " 2   VehicleType        316879 non-null  object\n",
      " 3   RegistrationYear   354369 non-null  int64 \n",
      " 4   Gearbox            334536 non-null  object\n",
      " 5   Power              354369 non-null  int64 \n",
      " 6   Model              334664 non-null  object\n",
      " 7   Mileage            354369 non-null  int64 \n",
      " 8   RegistrationMonth  354369 non-null  int64 \n",
      " 9   FuelType           321474 non-null  object\n",
      " 10  Brand              354369 non-null  object\n",
      " 11  NotRepaired        283215 non-null  object\n",
      " 12  DateCreated        354369 non-null  object\n",
      " 13  NumberOfPictures   354369 non-null  int64 \n",
      " 14  PostalCode         354369 non-null  int64 \n",
      " 15  LastSeen           354369 non-null  object\n",
      "dtypes: int64(7), object(9)\n",
      "memory usage: 43.3+ MB\n"
     ]
    },
    {
     "data": {
      "text/html": [
       "<div>\n",
       "<style scoped>\n",
       "    .dataframe tbody tr th:only-of-type {\n",
       "        vertical-align: middle;\n",
       "    }\n",
       "\n",
       "    .dataframe tbody tr th {\n",
       "        vertical-align: top;\n",
       "    }\n",
       "\n",
       "    .dataframe thead th {\n",
       "        text-align: right;\n",
       "    }\n",
       "</style>\n",
       "<table border=\"1\" class=\"dataframe\">\n",
       "  <thead>\n",
       "    <tr style=\"text-align: right;\">\n",
       "      <th></th>\n",
       "      <th>DateCrawled</th>\n",
       "      <th>Price</th>\n",
       "      <th>VehicleType</th>\n",
       "      <th>RegistrationYear</th>\n",
       "      <th>Gearbox</th>\n",
       "      <th>Power</th>\n",
       "      <th>Model</th>\n",
       "      <th>Mileage</th>\n",
       "      <th>RegistrationMonth</th>\n",
       "      <th>FuelType</th>\n",
       "      <th>Brand</th>\n",
       "      <th>NotRepaired</th>\n",
       "      <th>DateCreated</th>\n",
       "      <th>NumberOfPictures</th>\n",
       "      <th>PostalCode</th>\n",
       "      <th>LastSeen</th>\n",
       "    </tr>\n",
       "  </thead>\n",
       "  <tbody>\n",
       "    <tr>\n",
       "      <th>0</th>\n",
       "      <td>24/03/2016 11:52</td>\n",
       "      <td>480</td>\n",
       "      <td>NaN</td>\n",
       "      <td>1993</td>\n",
       "      <td>manual</td>\n",
       "      <td>0</td>\n",
       "      <td>golf</td>\n",
       "      <td>150000</td>\n",
       "      <td>0</td>\n",
       "      <td>petrol</td>\n",
       "      <td>volkswagen</td>\n",
       "      <td>NaN</td>\n",
       "      <td>24/03/2016 00:00</td>\n",
       "      <td>0</td>\n",
       "      <td>70435</td>\n",
       "      <td>07/04/2016 03:16</td>\n",
       "    </tr>\n",
       "    <tr>\n",
       "      <th>1</th>\n",
       "      <td>24/03/2016 10:58</td>\n",
       "      <td>18300</td>\n",
       "      <td>coupe</td>\n",
       "      <td>2011</td>\n",
       "      <td>manual</td>\n",
       "      <td>190</td>\n",
       "      <td>NaN</td>\n",
       "      <td>125000</td>\n",
       "      <td>5</td>\n",
       "      <td>gasoline</td>\n",
       "      <td>audi</td>\n",
       "      <td>yes</td>\n",
       "      <td>24/03/2016 00:00</td>\n",
       "      <td>0</td>\n",
       "      <td>66954</td>\n",
       "      <td>07/04/2016 01:46</td>\n",
       "    </tr>\n",
       "    <tr>\n",
       "      <th>2</th>\n",
       "      <td>14/03/2016 12:52</td>\n",
       "      <td>9800</td>\n",
       "      <td>suv</td>\n",
       "      <td>2004</td>\n",
       "      <td>auto</td>\n",
       "      <td>163</td>\n",
       "      <td>grand</td>\n",
       "      <td>125000</td>\n",
       "      <td>8</td>\n",
       "      <td>gasoline</td>\n",
       "      <td>jeep</td>\n",
       "      <td>NaN</td>\n",
       "      <td>14/03/2016 00:00</td>\n",
       "      <td>0</td>\n",
       "      <td>90480</td>\n",
       "      <td>05/04/2016 12:47</td>\n",
       "    </tr>\n",
       "    <tr>\n",
       "      <th>3</th>\n",
       "      <td>17/03/2016 16:54</td>\n",
       "      <td>1500</td>\n",
       "      <td>small</td>\n",
       "      <td>2001</td>\n",
       "      <td>manual</td>\n",
       "      <td>75</td>\n",
       "      <td>golf</td>\n",
       "      <td>150000</td>\n",
       "      <td>6</td>\n",
       "      <td>petrol</td>\n",
       "      <td>volkswagen</td>\n",
       "      <td>no</td>\n",
       "      <td>17/03/2016 00:00</td>\n",
       "      <td>0</td>\n",
       "      <td>91074</td>\n",
       "      <td>17/03/2016 17:40</td>\n",
       "    </tr>\n",
       "  </tbody>\n",
       "</table>\n",
       "</div>"
      ],
      "text/plain": [
       "        DateCrawled  Price VehicleType  RegistrationYear Gearbox  Power  \\\n",
       "0  24/03/2016 11:52    480         NaN              1993  manual      0   \n",
       "1  24/03/2016 10:58  18300       coupe              2011  manual    190   \n",
       "2  14/03/2016 12:52   9800         suv              2004    auto    163   \n",
       "3  17/03/2016 16:54   1500       small              2001  manual     75   \n",
       "\n",
       "   Model  Mileage  RegistrationMonth  FuelType       Brand NotRepaired  \\\n",
       "0   golf   150000                  0    petrol  volkswagen         NaN   \n",
       "1    NaN   125000                  5  gasoline        audi         yes   \n",
       "2  grand   125000                  8  gasoline        jeep         NaN   \n",
       "3   golf   150000                  6    petrol  volkswagen          no   \n",
       "\n",
       "        DateCreated  NumberOfPictures  PostalCode          LastSeen  \n",
       "0  24/03/2016 00:00                 0       70435  07/04/2016 03:16  \n",
       "1  24/03/2016 00:00                 0       66954  07/04/2016 01:46  \n",
       "2  14/03/2016 00:00                 0       90480  05/04/2016 12:47  \n",
       "3  17/03/2016 00:00                 0       91074  17/03/2016 17:40  "
      ]
     },
     "execution_count": 2,
     "metadata": {},
     "output_type": "execute_result"
    }
   ],
   "source": [
    "df = pd.read_csv('/datasets/car_data.csv')\n",
    "df.info()\n",
    "df.head(4)"
   ]
  },
  {
   "cell_type": "code",
   "execution_count": 3,
   "metadata": {},
   "outputs": [],
   "source": [
    "#convert time datatypes\n",
    "df['DateCrawled'] =pd.to_datetime(df['DateCrawled'] ,format='%y-%m-%d %H:%M',errors='coerce')\n",
    "df['DateCreated'] =pd.to_datetime(df['DateCreated'] ,format='%y-%m-%d %H:%M',errors='coerce')\n",
    "df['LastSeen'] =pd.to_datetime(df['LastSeen'] ,format='%y-%m-%d %H:%M',errors='coerce')\n"
   ]
  },
  {
   "cell_type": "code",
   "execution_count": 4,
   "metadata": {},
   "outputs": [
    {
     "data": {
      "text/plain": [
       "21333"
      ]
     },
     "execution_count": 4,
     "metadata": {},
     "output_type": "execute_result"
    }
   ],
   "source": [
    "#check for duplicates\n",
    "df.duplicated().sum()\n"
   ]
  },
  {
   "cell_type": "code",
   "execution_count": 5,
   "metadata": {},
   "outputs": [
    {
     "data": {
      "text/plain": [
       "0"
      ]
     },
     "execution_count": 5,
     "metadata": {},
     "output_type": "execute_result"
    }
   ],
   "source": [
    "#drop duplicated\n",
    "df.drop_duplicates(inplace=True)\n",
    "df.duplicated().sum()"
   ]
  },
  {
   "cell_type": "code",
   "execution_count": 6,
   "metadata": {},
   "outputs": [
    {
     "data": {
      "text/plain": [
       "DateCrawled          333036\n",
       "Price                     0\n",
       "VehicleType           36140\n",
       "RegistrationYear          0\n",
       "Gearbox               19015\n",
       "Power                     0\n",
       "Model                 19023\n",
       "Mileage                   0\n",
       "RegistrationMonth         0\n",
       "FuelType              31902\n",
       "Brand                     0\n",
       "NotRepaired           68063\n",
       "DateCreated          333036\n",
       "NumberOfPictures          0\n",
       "PostalCode                0\n",
       "LastSeen             333036\n",
       "dtype: int64"
      ]
     },
     "execution_count": 6,
     "metadata": {},
     "output_type": "execute_result"
    }
   ],
   "source": [
    "#check for empty cells\n",
    "df.isna().sum()"
   ]
  },
  {
   "cell_type": "code",
   "execution_count": 7,
   "metadata": {},
   "outputs": [
    {
     "data": {
      "text/plain": [
       "DateCrawled          0\n",
       "Price                0\n",
       "VehicleType          0\n",
       "RegistrationYear     0\n",
       "Gearbox              0\n",
       "Power                0\n",
       "Model                0\n",
       "Mileage              0\n",
       "RegistrationMonth    0\n",
       "FuelType             0\n",
       "Brand                0\n",
       "NotRepaired          0\n",
       "DateCreated          0\n",
       "NumberOfPictures     0\n",
       "PostalCode           0\n",
       "LastSeen             0\n",
       "dtype: int64"
      ]
     },
     "execution_count": 7,
     "metadata": {},
     "output_type": "execute_result"
    }
   ],
   "source": [
    "#fill empty cells and check successfully done \n",
    "list_of_columns=df.columns\n",
    "df[list_of_columns] = df[list_of_columns].fillna('NA')\n",
    "df.isna().sum()"
   ]
  },
  {
   "cell_type": "code",
   "execution_count": 8,
   "metadata": {},
   "outputs": [],
   "source": [
    "categorical= ['VehicleType', 'Gearbox', 'Model','FuelType','Brand','NotRepaired','LastSeen']       "
   ]
  },
  {
   "cell_type": "code",
   "execution_count": 9,
   "metadata": {},
   "outputs": [
    {
     "name": "stdout",
     "output_type": "stream",
     "text": [
      "Original DataFrame:\n",
      "       DateCrawled  Price  VehicleType  RegistrationYear  Gearbox  Power  \\\n",
      "0               NA    480          0.0              1993      2.0      0   \n",
      "1               NA  18300          3.0              2011      2.0    190   \n",
      "2               NA   9800          7.0              2004      1.0    163   \n",
      "3               NA   1500          6.0              2001      2.0     75   \n",
      "4               NA   3600          6.0              2008      2.0     69   \n",
      "...            ...    ...          ...               ...      ...    ...   \n",
      "354364          NA      0          0.0              2005      2.0      0   \n",
      "354365          NA   2200          0.0              2005      0.0      0   \n",
      "354366          NA   1199          2.0              2000      1.0    101   \n",
      "354367          NA   9200          1.0              1996      2.0    102   \n",
      "354368          NA   3400          8.0              2002      2.0    100   \n",
      "\n",
      "        Model  Mileage  RegistrationMonth  FuelType  Brand  NotRepaired  \\\n",
      "0       117.0   150000                  0       7.0   38.0          0.0   \n",
      "1        26.0   125000                  5       3.0    1.0          2.0   \n",
      "2       118.0   125000                  8       3.0   14.0          0.0   \n",
      "3       117.0   150000                  6       7.0   38.0          1.0   \n",
      "4       102.0    90000                  7       3.0   31.0          1.0   \n",
      "...       ...      ...                ...       ...    ...          ...   \n",
      "354364   79.0   150000                  7       7.0   22.0          2.0   \n",
      "354365   26.0    20000                  1       0.0   33.0          0.0   \n",
      "354366  107.0   125000                  3       7.0   32.0          1.0   \n",
      "354367  225.0   150000                  3       3.0   38.0          1.0   \n",
      "354368  117.0   150000                  6       3.0   38.0          0.0   \n",
      "\n",
      "       DateCreated  NumberOfPictures  PostalCode  LastSeen  \n",
      "0               NA                 0       70435       0.0  \n",
      "1               NA                 0       66954       0.0  \n",
      "2               NA                 0       90480       0.0  \n",
      "3               NA                 0       91074       0.0  \n",
      "4               NA                 0       60437       0.0  \n",
      "...            ...               ...         ...       ...  \n",
      "354364          NA                 0        2694       0.0  \n",
      "354365          NA                 0       39576       0.0  \n",
      "354366          NA                 0       26135       0.0  \n",
      "354367          NA                 0       87439       0.0  \n",
      "354368          NA                 0       40764       0.0  \n",
      "\n",
      "[333036 rows x 16 columns]\n",
      "\n",
      "Encoded DataFrame:\n",
      "        VehicleType  Gearbox  Model  FuelType  Brand  NotRepaired  LastSeen\n",
      "0               0.0      2.0  117.0       7.0   38.0          0.0       0.0\n",
      "1               3.0      2.0   26.0       3.0    1.0          2.0       0.0\n",
      "2               7.0      1.0  118.0       3.0   14.0          0.0       0.0\n",
      "3               6.0      2.0  117.0       7.0   38.0          1.0       0.0\n",
      "4               6.0      2.0  102.0       3.0   31.0          1.0       0.0\n",
      "...             ...      ...    ...       ...    ...          ...       ...\n",
      "354364          0.0      2.0   79.0       7.0   22.0          2.0       0.0\n",
      "354365          0.0      0.0   26.0       0.0   33.0          0.0       0.0\n",
      "354366          2.0      1.0  107.0       7.0   32.0          1.0       0.0\n",
      "354367          1.0      2.0  225.0       3.0   38.0          1.0       0.0\n",
      "354368          8.0      2.0  117.0       3.0   38.0          0.0       0.0\n",
      "\n",
      "[333036 rows x 7 columns]\n"
     ]
    }
   ],
   "source": [
    "# Initialize the OrdinalEncoder\n",
    "encoder = OrdinalEncoder()\n",
    "\n",
    "# Apply the encoder to the DataFrame\n",
    "encoded_data = encoder.fit_transform(df[categorical])\n",
    "\n",
    "# Convert the encoded data back to a DataFrame with the same column names\n",
    "encoded_df = pd.DataFrame(encoded_data, columns=categorical, index=df.index)\n",
    "\n",
    "# Replace the original categorical columns with the encoded ones\n",
    "df[categorical] = encoded_df\n",
    "\n",
    "print(\"Original DataFrame:\")\n",
    "print(df)\n",
    "print(\"\\nEncoded DataFrame:\")\n",
    "print(encoded_df)\n"
   ]
  },
  {
   "cell_type": "code",
   "execution_count": 10,
   "metadata": {},
   "outputs": [
    {
     "name": "stdout",
     "output_type": "stream",
     "text": [
      "  DateCrawled  Price  RegistrationYear  Power  Mileage  RegistrationMonth  \\\n",
      "0          NA    480              1993      0   150000                  0   \n",
      "1          NA  18300              2011    190   125000                  5   \n",
      "2          NA   9800              2004    163   125000                  8   \n",
      "3          NA   1500              2001     75   150000                  6   \n",
      "4          NA   3600              2008     69    90000                  7   \n",
      "\n",
      "  DateCreated  NumberOfPictures  PostalCode  VehicleType  Gearbox  Model  \\\n",
      "0          NA                 0       70435          0.0      2.0  117.0   \n",
      "1          NA                 0       66954          3.0      2.0   26.0   \n",
      "2          NA                 0       90480          7.0      1.0  118.0   \n",
      "3          NA                 0       91074          6.0      2.0  117.0   \n",
      "4          NA                 0       60437          6.0      2.0  102.0   \n",
      "\n",
      "   FuelType  Brand  NotRepaired  LastSeen  \n",
      "0       7.0   38.0          0.0       0.0  \n",
      "1       3.0    1.0          2.0       0.0  \n",
      "2       3.0   14.0          0.0       0.0  \n",
      "3       7.0   38.0          1.0       0.0  \n",
      "4       3.0   31.0          1.0       0.0  \n"
     ]
    }
   ],
   "source": [
    "# Ensure the column names of encoded_df match the corresponding columns in df\n",
    "# encoded_df should contain only the encoded versions of categorical columns from df\n",
    "\n",
    "# Drop the columns in df that are being replaced by encoded_df\n",
    "df = df.drop(columns=encoded_df.columns, errors=\"ignore\")\n",
    "\n",
    "# Merge the remaining df with encoded_df\n",
    "df = pd.concat([df, encoded_df], axis=1)\n",
    "\n",
    "# Verify the resulting dataframe\n",
    "print(df.head())\n",
    "\n"
   ]
  },
  {
   "cell_type": "markdown",
   "metadata": {},
   "source": [
    "## Model training"
   ]
  },
  {
   "cell_type": "code",
   "execution_count": 11,
   "metadata": {},
   "outputs": [],
   "source": [
    "#calculate sMAPE\n",
    "\n",
    "def calculate_smape(actual, forecast):\n",
    "    # Ensure inputs are numpy arrays\n",
    "    actual = np.array(actual)\n",
    "    forecast = np.array(forecast)\n",
    "    \n",
    "    # Avoid division by zero and calculate sMAPE\n",
    "    denominator = (np.abs(actual) + np.abs(forecast)) / 2\n",
    "    nonzero_indices = denominator != 0  # Avoid division by zero\n",
    "    numerator = np.abs(forecast - actual)\n",
    "    \n",
    "    smape = np.mean(numerator[nonzero_indices] / denominator[nonzero_indices]) * 100\n",
    "    return smape"
   ]
  },
  {
   "cell_type": "code",
   "execution_count": 12,
   "metadata": {},
   "outputs": [],
   "source": [
    "#rmse calculation \n",
    "def calculate_rmse(true_values, predicted_values):\n",
    "    return np.sqrt(mean_squared_error(true_values, predicted_values))"
   ]
  },
  {
   "cell_type": "code",
   "execution_count": 13,
   "metadata": {},
   "outputs": [],
   "source": [
    "\n",
    "X = df.drop(columns=['Price','DateCrawled', 'DateCreated'])\n",
    "y = df['Price']\n",
    "\n",
    "# Split the data\n",
    "X_train, X_test, y_train, y_test = train_test_split(X, y, test_size=0.2, random_state=42)"
   ]
  },
  {
   "cell_type": "code",
   "execution_count": 14,
   "metadata": {},
   "outputs": [
    {
     "name": "stdout",
     "output_type": "stream",
     "text": [
      "RegistrationYear     0\n",
      "Power                0\n",
      "Mileage              0\n",
      "RegistrationMonth    0\n",
      "NumberOfPictures     0\n",
      "PostalCode           0\n",
      "VehicleType          0\n",
      "Gearbox              0\n",
      "Model                0\n",
      "FuelType             0\n",
      "Brand                0\n",
      "NotRepaired          0\n",
      "LastSeen             0\n",
      "dtype: int64\n",
      "0\n",
      "RegistrationYear     0\n",
      "Power                0\n",
      "Mileage              0\n",
      "RegistrationMonth    0\n",
      "NumberOfPictures     0\n",
      "PostalCode           0\n",
      "VehicleType          0\n",
      "Gearbox              0\n",
      "Model                0\n",
      "FuelType             0\n",
      "Brand                0\n",
      "NotRepaired          0\n",
      "LastSeen             0\n",
      "dtype: int64\n",
      "0\n"
     ]
    }
   ],
   "source": [
    "print(X.isnull().sum())  # Check for NaN values in X\n",
    "print(y.isnull().sum())  # Check for NaN values in y\n",
    "\n",
    "print(np.isinf(X).sum())  # Check for infinity in X\n",
    "print(np.isinf(y).sum())  # Check for infinity in y"
   ]
  },
  {
   "cell_type": "code",
   "execution_count": 15,
   "metadata": {},
   "outputs": [],
   "source": [
    "\n",
    "# Identify quantitative columns\n",
    "quantitative_features = ['RegistrationYear', 'Power', 'Mileage', 'RegistrationMonth', 'NumberOfPictures', 'PostalCode']  \n",
    "\n",
    "# Initialize the scaler\n",
    "scaler = StandardScaler()\n",
    "\n",
    "# Scale only the quantitative features\n",
    "X_train_scaled = X_train.copy()\n",
    "X_train_scaled[quantitative_features] = scaler.fit_transform(X_train[quantitative_features])\n",
    "\n",
    "X_test_scaled = X_test.copy()\n",
    "X_test_scaled[quantitative_features] = scaler.transform(X_test[quantitative_features])"
   ]
  },
  {
   "cell_type": "code",
   "execution_count": 16,
   "metadata": {},
   "outputs": [
    {
     "name": "stdout",
     "output_type": "stream",
     "text": [
      "Linear Regression sMAPE: 76.11%\n",
      "Linear Regression Test RMSE: 4124.01\n",
      "Linear Regression Training RMSE: 4049.73\n",
      "Linear Regression Training time: 0.08 seconds\n",
      "Linear Regression Prediction time: 0.02 seconds\n"
     ]
    }
   ],
   "source": [
    "# Initialize the Linear Regression model\n",
    "lr_model = LinearRegression()\n",
    "\n",
    "# Measure training time\n",
    "start_train = time.time()\n",
    "lr_model.fit(X_train_scaled, y_train)  # Train the model on the entire training data\n",
    "end_train = time.time()\n",
    "\n",
    "# Measure prediction time\n",
    "start_pred = time.time()\n",
    "y_pred_lr = lr_model.predict(X_test_scaled)  # Predict on the test data\n",
    "y_pred_lr_train = lr_model.predict(X_train_scaled)  # Predict on the train data\n",
    "\n",
    "end_pred = time.time()\n",
    "\n",
    "# Calculate sMAPE\n",
    "smape_lr = calculate_smape(y_test, y_pred_lr)\n",
    "print(f\"Linear Regression sMAPE: {smape_lr:.2f}%\")\n",
    "\n",
    "# Calculate RMSE test\n",
    "rmse = calculate_rmse(y_test, y_pred_lr)\n",
    "print(f'Linear Regression Test RMSE: {rmse:.2f}')\n",
    "\n",
    "# Calculate RMSE training\n",
    "rmse_train = calculate_rmse(y_train, y_pred_lr_train)\n",
    "print(f'Linear Regression Training RMSE: {rmse_train:.2f}')\n",
    "\n",
    "\n",
    "# Output training and prediction times\n",
    "print(f'Linear Regression Training time: {end_train - start_train:.2f} seconds')\n",
    "print(f'Linear Regression Prediction time: {end_pred - start_pred:.2f} seconds')\n"
   ]
  },
  {
   "cell_type": "code",
   "execution_count": 17,
   "metadata": {},
   "outputs": [
    {
     "name": "stdout",
     "output_type": "stream",
     "text": [
      "Decision Tree RMSE: 2459.7905091306006\n",
      "Decision Tree Training time: 1.59 seconds\n",
      "Decision Tree Prediction time: 0.03 seconds\n"
     ]
    }
   ],
   "source": [
    "# Decision Tree Regressor\n",
    "tree_reg = DecisionTreeRegressor(random_state=42)\n",
    "\n",
    "start_train = time.time()\n",
    "tree_reg.fit(X_train, y_train)\n",
    "end_train = time.time()\n",
    "\n",
    "start_pred = time.time()\n",
    "y_pred = tree_reg.predict(X_test)\n",
    "end_pred = time.time()\n",
    "\n",
    "rmse_tree = mean_squared_error(y_test, y_pred, squared=False)\n",
    "print(f'Decision Tree RMSE: {rmse_tree}')\n",
    "print(f'Decision Tree Training time: {end_train - start_train:.2f} seconds')\n",
    "print(f'Decision Tree Prediction time: {end_pred - start_pred:.2f} seconds')"
   ]
  },
  {
   "cell_type": "code",
   "execution_count": 18,
   "metadata": {},
   "outputs": [
    {
     "name": "stdout",
     "output_type": "stream",
     "text": [
      "Best Random Forest Parameters: {'max_depth': 20, 'n_estimators': 200}\n"
     ]
    }
   ],
   "source": [
    "#find best parameters for Random Forest \n",
    "param_grid = {\n",
    "    'n_estimators': [100, 200],\n",
    "    'max_depth': [None, 10, 20],\n",
    "}\n",
    "\n",
    "rf_grid_search = GridSearchCV(RandomForestRegressor(random_state=42), param_grid, cv=5)\n",
    "rf_grid_search.fit(X_train, y_train)\n",
    "\n",
    "best_rf_model = rf_grid_search.best_estimator_\n",
    "print(\"Best Random Forest Parameters:\", rf_grid_search.best_params_)"
   ]
  },
  {
   "cell_type": "code",
   "execution_count": 19,
   "metadata": {},
   "outputs": [
    {
     "name": "stdout",
     "output_type": "stream",
     "text": [
      "Random Forest sMAPE: 28.65%\n",
      "Random Forest RMSE : 1777.8358063209712\n",
      "Random Forest Training time: 162.85 seconds\n",
      "Random Forest Prediction time: 11.73 seconds\n"
     ]
    }
   ],
   "source": [
    "# Random Forest Regressor\n",
    "rf_model = RandomForestRegressor(n_estimators=200, random_state=42, max_depth=20)\n",
    "\n",
    "start_train = time.time()\n",
    "rf_model.fit(X_train, y_train)\n",
    "end_train = time.time()\n",
    "\n",
    "# Measure prediction time\n",
    "start_pred = time.time()\n",
    "# Predict on the test data\n",
    "y_pred_rf = rf_model.predict(X_train) \n",
    "#y_pred_rf = cross_val_predict(rf_model, X_train, y_train, cv=5)\n",
    "end_pred = time.time()\n",
    "\n",
    "\n",
    "\n",
    "smape_rf = calculate_smape(y_train, y_pred_rf)\n",
    "print(f\"Random Forest sMAPE: {smape_rf:.2f}%\")\n",
    "# Predict on the test set\n",
    "y_pred_rf_test = rf_model.predict(X_test)\n",
    "# Calculate and display RMSE\n",
    "rmse_forest = mean_squared_error(y_test, y_pred_rf_test, squared=False)\n",
    "print(f'Random Forest RMSE :', rmse_forest)\n",
    "print(f'Random Forest Training time: {end_train - start_train:.2f} seconds')\n",
    "print(f'Random Forest Prediction time: {end_pred - start_pred:.2f} seconds')\n"
   ]
  },
  {
   "cell_type": "code",
   "execution_count": 20,
   "metadata": {},
   "outputs": [
    {
     "name": "stderr",
     "output_type": "stream",
     "text": [
      "/opt/conda/envs/python3/lib/python3.9/site-packages/lightgbm/engine.py:181: UserWarning: 'early_stopping_rounds' argument is deprecated and will be removed in a future release of LightGBM. Pass 'early_stopping()' callback via 'callbacks' argument instead.\n",
      "  _log_warning(\"'early_stopping_rounds' argument is deprecated and will be removed in a future release of LightGBM. \"\n"
     ]
    },
    {
     "name": "stdout",
     "output_type": "stream",
     "text": [
      "[LightGBM] [Warning] Auto-choosing row-wise multi-threading, the overhead of testing was 0.002886 seconds.\n",
      "You can set `force_row_wise=true` to remove the overhead.\n",
      "And if memory is not enough, you can set `force_col_wise=true`.\n",
      "[LightGBM] [Info] Total Bins 944\n",
      "[LightGBM] [Info] Number of data points in the train set: 266428, number of used features: 11\n",
      "[LightGBM] [Info] Start training from score 4374.967226\n",
      "[1]\tvalid_0's rmse: 4345.32\n",
      "Training until validation scores don't improve for 5 rounds\n",
      "[2]\tvalid_0's rmse: 4200.86\n",
      "[3]\tvalid_0's rmse: 4064.7\n",
      "[4]\tvalid_0's rmse: 3937.96\n",
      "[5]\tvalid_0's rmse: 3820.1\n",
      "[6]\tvalid_0's rmse: 3709.64\n",
      "[7]\tvalid_0's rmse: 3605.89\n",
      "[8]\tvalid_0's rmse: 3510.44\n",
      "[9]\tvalid_0's rmse: 3420.49\n",
      "[10]\tvalid_0's rmse: 3336.07\n",
      "[11]\tvalid_0's rmse: 3258.17\n",
      "[12]\tvalid_0's rmse: 3184.51\n",
      "[13]\tvalid_0's rmse: 3116.97\n",
      "[14]\tvalid_0's rmse: 3052.48\n",
      "[15]\tvalid_0's rmse: 2993.21\n",
      "[16]\tvalid_0's rmse: 2938.01\n",
      "[17]\tvalid_0's rmse: 2887.8\n",
      "[18]\tvalid_0's rmse: 2839.82\n",
      "[19]\tvalid_0's rmse: 2794.4\n",
      "[20]\tvalid_0's rmse: 2751.5\n",
      "Did not meet early stopping. Best iteration is:\n",
      "[20]\tvalid_0's rmse: 2751.5\n",
      "LightGBM RMSE: 2751.5004230314034\n",
      "LIghtGBM Training time: 1.19 seconds\n",
      "LightGBM Prediction time: 0.10 seconds\n"
     ]
    }
   ],
   "source": [
    "#evaluate with lightGBM\n",
    "lgb_train = lgb.Dataset(X_train, y_train)\n",
    "lgb_eval = lgb.Dataset(X_test, y_test, reference=lgb_train)\n",
    "\n",
    "params = {\n",
    "    'objective': 'regression',\n",
    "    'metric': 'rmse',\n",
    "    'num_leaves': 31,\n",
    "    'learning_rate': 0.05,\n",
    "    'feature_fraction': 0.9\n",
    "}\n",
    "\n",
    "start_train = time.time()\n",
    "gbm = lgb.train(\n",
    "    params,\n",
    "    lgb_train,\n",
    "    num_boost_round=20,\n",
    "    valid_sets=lgb_eval,\n",
    "    early_stopping_rounds=5\n",
    ")\n",
    "end_train = time.time()\n",
    "\n",
    "\n",
    "start_pred = time.time()\n",
    "y_pred = gbm.predict(X_test, num_iteration=gbm.best_iteration)\n",
    "end_pred = time.time()\n",
    "\n",
    "\n",
    "rmse_lgb = mean_squared_error(y_test, y_pred, squared=False)\n",
    "print(f'LightGBM RMSE: {rmse_lgb}')\n",
    "print(f'LIghtGBM Training time: {end_train - start_train:.2f} seconds')\n",
    "print(f'LightGBM Prediction time: {end_pred - start_pred:.2f} seconds')\n"
   ]
  },
  {
   "cell_type": "code",
   "execution_count": 21,
   "metadata": {},
   "outputs": [
    {
     "name": "stdout",
     "output_type": "stream",
     "text": [
      "Gradient Boosting (Scikit-learn) RMSE: 2080.9624228672697\n",
      "Gradient Boosting Training time: 24.28 seconds\n",
      "Gradient Bosoting Prediction time: 0.09 seconds\n"
     ]
    }
   ],
   "source": [
    "# Gradient Boosting Model\n",
    "gbr = GradientBoostingRegressor(random_state=42, n_estimators=100, learning_rate=0.1, max_depth=3)\n",
    "\n",
    "# Measure training time\n",
    "start_train = time.time()\n",
    "gbr.fit(X_train, y_train)\n",
    "end_train = time.time()\n",
    "\n",
    "# Measure prediction time\n",
    "start_pred = time.time()\n",
    "y_pred_gbr = gbr.predict(X_test)\n",
    "end_pred = time.time()\n",
    "\n",
    "# Calculate RMSE\n",
    "rmse_gbr = mean_squared_error(y_test, y_pred_gbr, squared=False)\n",
    "\n",
    "# Output results\n",
    "print(f'Gradient Boosting (Scikit-learn) RMSE: {rmse_gbr}')\n",
    "print(f'Gradient Boosting Training time: {end_train - start_train:.2f} seconds')\n",
    "print(f'Gradient Bosoting Prediction time: {end_pred - start_pred:.2f} seconds')\n"
   ]
  },
  {
   "cell_type": "markdown",
   "metadata": {},
   "source": [
    "## Model analysis"
   ]
  },
  {
   "cell_type": "markdown",
   "metadata": {},
   "source": [
    "## Conclusion\n",
    "\n",
    "In order ot help Rusty Bargain develop an app to attract new customers for car sales service several machine learning models were trained and evaluated.  Models were predictin the selling price of cars as they are uploaded to the app.  Models evaluated include Linear Regression, Decision Tree, Random Forest, and LightGBM. Since Gradient Boosting can capture complex patterns in the data it was the highly effective in predicting car prices. Random Forest achieved the lowest RMSE score.  LighGBM also had the fastest processing time. All other models were superior to Linear Regression.    \n",
    "\n",
    "### Key Findings\n",
    "\n",
    "1. **Model Performance**:\n",
    "   - **Linear Regression**: The test RMSE was 4124.01, which served as a baseline for comparison.Linear Regression Training time: 0.05 seconds. Linear Regression Prediction time: 0.07 seconds\n",
    "   - **Decision Tree**: The RMSE Decision Tree: 2459.79. Decision Tree Training time: 1.54 seconds. Decision Tree Prediction time: 0.03 seconds\n",
    "    - **Random Forest Regression**: RMSE was: 1777.83. Random Forest Training time: 163.74 seconds. Random Forest Prediction time: 11.76 seconds\n",
    "   - **Gradient Boosting (Scikit-learn)**: RMSE was 2080.96. Gradient Boosting Training time: 24.37 seconds. Gradient Bosoting Prediction time: 0.09 seconds\n",
    "   - **LightGBM**: The RMSE was 2751.50. LIghtGBM Training time: 1.23 seconds. LightGBM Prediction time: 0.02 seconds\n",
    "   \n",
    "   \n",
    "2. **Data Preparation**:\n",
    "   - Data was checked for duplicates and empty cells. \n",
    "   - Data needed conversion of datatypes to be able to run through machine learning models.  \n",
    "   - Categoies which were non-numeric were converted to numeric data.  \n",
    "\n"
   ]
  }
 ],
 "metadata": {
  "ExecuteTimeLog": [
   {
    "duration": 156,
    "start_time": "2025-01-21T02:04:12.035Z"
   },
   {
    "duration": 2813,
    "start_time": "2025-01-21T02:04:17.040Z"
   },
   {
    "duration": 448,
    "start_time": "2025-01-21T02:04:19.855Z"
   },
   {
    "duration": 464,
    "start_time": "2025-01-21T02:05:53.276Z"
   },
   {
    "duration": 484,
    "start_time": "2025-01-21T02:06:32.718Z"
   },
   {
    "duration": 520,
    "start_time": "2025-01-21T02:06:40.767Z"
   },
   {
    "duration": 14,
    "start_time": "2025-01-21T02:07:52.655Z"
   },
   {
    "duration": 203,
    "start_time": "2025-01-21T02:07:59.958Z"
   },
   {
    "duration": 90,
    "start_time": "2025-01-21T02:08:01.229Z"
   },
   {
    "duration": 16,
    "start_time": "2025-01-21T02:08:05.451Z"
   },
   {
    "duration": 92,
    "start_time": "2025-01-21T02:08:12.338Z"
   },
   {
    "duration": 460,
    "start_time": "2025-01-21T02:08:47.197Z"
   },
   {
    "duration": 17,
    "start_time": "2025-01-21T02:10:14.758Z"
   },
   {
    "duration": 411,
    "start_time": "2025-01-21T02:11:04.610Z"
   },
   {
    "duration": 194,
    "start_time": "2025-01-21T02:12:22.429Z"
   },
   {
    "duration": 207,
    "start_time": "2025-01-21T02:12:38.620Z"
   },
   {
    "duration": 318,
    "start_time": "2025-01-21T02:16:15.474Z"
   },
   {
    "duration": 162,
    "start_time": "2025-01-21T02:18:43.344Z"
   },
   {
    "duration": 98,
    "start_time": "2025-01-21T02:19:27.412Z"
   },
   {
    "duration": 78,
    "start_time": "2025-01-21T02:20:10.126Z"
   },
   {
    "duration": 73,
    "start_time": "2025-01-21T02:21:06.401Z"
   },
   {
    "duration": 156,
    "start_time": "2025-01-21T02:54:43.554Z"
   },
   {
    "duration": 16,
    "start_time": "2025-01-21T02:54:49.544Z"
   },
   {
    "duration": 168,
    "start_time": "2025-01-21T02:55:59.809Z"
   },
   {
    "duration": 308,
    "start_time": "2025-01-21T02:56:54.724Z"
   },
   {
    "duration": 148,
    "start_time": "2025-01-21T03:06:16.827Z"
   },
   {
    "duration": 113,
    "start_time": "2025-01-21T03:06:43.441Z"
   },
   {
    "duration": 59,
    "start_time": "2025-01-21T03:07:04.968Z"
   },
   {
    "duration": 1073,
    "start_time": "2025-01-21T03:08:06.810Z"
   },
   {
    "duration": 3,
    "start_time": "2025-01-21T03:08:19.675Z"
   },
   {
    "duration": 466,
    "start_time": "2025-01-21T03:08:19.679Z"
   },
   {
    "duration": 173,
    "start_time": "2025-01-21T03:08:20.147Z"
   },
   {
    "duration": 142,
    "start_time": "2025-01-21T03:08:20.321Z"
   },
   {
    "duration": 288,
    "start_time": "2025-01-21T03:08:20.465Z"
   },
   {
    "duration": 66,
    "start_time": "2025-01-21T03:08:20.754Z"
   },
   {
    "duration": 1022,
    "start_time": "2025-01-21T03:08:20.821Z"
   },
   {
    "duration": 156,
    "start_time": "2025-01-21T18:34:31.359Z"
   },
   {
    "duration": 2728,
    "start_time": "2025-01-21T18:34:38.431Z"
   },
   {
    "duration": 525,
    "start_time": "2025-01-21T18:34:41.162Z"
   },
   {
    "duration": 175,
    "start_time": "2025-01-21T18:34:41.689Z"
   },
   {
    "duration": 180,
    "start_time": "2025-01-21T18:34:41.866Z"
   },
   {
    "duration": 347,
    "start_time": "2025-01-21T18:34:42.048Z"
   },
   {
    "duration": 61,
    "start_time": "2025-01-21T18:34:42.397Z"
   },
   {
    "duration": 1064,
    "start_time": "2025-01-21T18:34:42.460Z"
   },
   {
    "duration": 493,
    "start_time": "2025-01-21T18:34:48.036Z"
   },
   {
    "duration": 41,
    "start_time": "2025-01-21T18:34:56.654Z"
   },
   {
    "duration": 17,
    "start_time": "2025-01-21T18:35:05.686Z"
   },
   {
    "duration": 109,
    "start_time": "2025-01-21T19:34:31.632Z"
   },
   {
    "duration": 371,
    "start_time": "2025-01-21T19:34:41.647Z"
   },
   {
    "duration": 84,
    "start_time": "2025-01-21T19:35:10.140Z"
   },
   {
    "duration": 24,
    "start_time": "2025-01-21T19:39:18.293Z"
   },
   {
    "duration": 25,
    "start_time": "2025-01-21T19:40:57.884Z"
   },
   {
    "duration": 26,
    "start_time": "2025-01-21T19:41:53.773Z"
   },
   {
    "duration": 96,
    "start_time": "2025-01-21T20:19:02.313Z"
   },
   {
    "duration": 8,
    "start_time": "2025-01-21T20:19:03.612Z"
   },
   {
    "duration": 48,
    "start_time": "2025-01-21T20:19:05.865Z"
   },
   {
    "duration": 58,
    "start_time": "2025-01-21T20:19:14.807Z"
   },
   {
    "duration": 101,
    "start_time": "2025-01-21T20:19:19.060Z"
   },
   {
    "duration": 19,
    "start_time": "2025-01-21T20:20:54.787Z"
   },
   {
    "duration": 59,
    "start_time": "2025-01-21T20:42:03.106Z"
   },
   {
    "duration": 38,
    "start_time": "2025-01-21T20:43:41.269Z"
   },
   {
    "duration": 19,
    "start_time": "2025-01-21T20:44:03.530Z"
   },
   {
    "duration": 12,
    "start_time": "2025-01-21T20:44:11.162Z"
   },
   {
    "duration": 13,
    "start_time": "2025-01-21T20:48:43.299Z"
   },
   {
    "duration": 18,
    "start_time": "2025-01-21T20:49:01.362Z"
   },
   {
    "duration": 4,
    "start_time": "2025-01-21T20:49:08.224Z"
   },
   {
    "duration": 126,
    "start_time": "2025-01-21T20:50:23.505Z"
   },
   {
    "duration": 9,
    "start_time": "2025-01-21T20:51:06.965Z"
   },
   {
    "duration": 47,
    "start_time": "2025-01-21T20:52:48.141Z"
   },
   {
    "duration": 60,
    "start_time": "2025-01-21T20:55:29.514Z"
   },
   {
    "duration": 79,
    "start_time": "2025-01-21T20:55:42.795Z"
   },
   {
    "duration": 78,
    "start_time": "2025-01-21T20:56:16.700Z"
   },
   {
    "duration": 68,
    "start_time": "2025-01-21T20:56:45.022Z"
   },
   {
    "duration": 585,
    "start_time": "2025-01-21T20:58:38.884Z"
   },
   {
    "duration": 895,
    "start_time": "2025-01-21T21:00:06.624Z"
   },
   {
    "duration": 11,
    "start_time": "2025-01-21T21:00:27.841Z"
   },
   {
    "duration": 2790,
    "start_time": "2025-01-22T03:06:39.816Z"
   },
   {
    "duration": 570,
    "start_time": "2025-01-22T03:06:42.608Z"
   },
   {
    "duration": 212,
    "start_time": "2025-01-22T03:06:43.180Z"
   },
   {
    "duration": 164,
    "start_time": "2025-01-22T03:06:43.394Z"
   },
   {
    "duration": 319,
    "start_time": "2025-01-22T03:06:43.560Z"
   },
   {
    "duration": 65,
    "start_time": "2025-01-22T03:06:43.881Z"
   },
   {
    "duration": 1075,
    "start_time": "2025-01-22T03:06:43.948Z"
   },
   {
    "duration": 100,
    "start_time": "2025-01-22T03:06:45.025Z"
   },
   {
    "duration": 67,
    "start_time": "2025-01-22T03:06:45.126Z"
   },
   {
    "duration": 3,
    "start_time": "2025-01-22T03:06:45.197Z"
   },
   {
    "duration": 195,
    "start_time": "2025-01-22T03:06:45.202Z"
   },
   {
    "duration": 48,
    "start_time": "2025-01-22T03:06:45.399Z"
   },
   {
    "duration": 91,
    "start_time": "2025-01-22T03:06:45.449Z"
   },
   {
    "duration": 907,
    "start_time": "2025-01-22T03:06:45.542Z"
   },
   {
    "duration": 15,
    "start_time": "2025-01-22T03:06:46.451Z"
   },
   {
    "duration": 4,
    "start_time": "2025-01-22T03:06:46.467Z"
   },
   {
    "duration": 4,
    "start_time": "2025-01-22T03:06:46.472Z"
   },
   {
    "duration": 631,
    "start_time": "2025-01-22T03:06:46.478Z"
   },
   {
    "duration": 0,
    "start_time": "2025-01-22T03:06:47.111Z"
   },
   {
    "duration": 43,
    "start_time": "2025-01-22T03:09:07.962Z"
   },
   {
    "duration": 21,
    "start_time": "2025-01-22T03:14:26.406Z"
   },
   {
    "duration": 304,
    "start_time": "2025-01-22T03:14:28.407Z"
   },
   {
    "duration": 273,
    "start_time": "2025-01-22T03:15:56.514Z"
   },
   {
    "duration": 15,
    "start_time": "2025-01-22T03:16:34.209Z"
   },
   {
    "duration": 18,
    "start_time": "2025-01-22T03:17:35.046Z"
   },
   {
    "duration": 62,
    "start_time": "2025-01-22T03:17:48.188Z"
   },
   {
    "duration": 64,
    "start_time": "2025-01-22T03:18:16.269Z"
   },
   {
    "duration": 10,
    "start_time": "2025-01-22T03:25:16.787Z"
   },
   {
    "duration": 13,
    "start_time": "2025-01-22T03:25:32.371Z"
   },
   {
    "duration": 11,
    "start_time": "2025-01-22T03:29:16.943Z"
   },
   {
    "duration": 10,
    "start_time": "2025-01-22T03:29:19.342Z"
   },
   {
    "duration": 20,
    "start_time": "2025-01-22T03:29:35.895Z"
   },
   {
    "duration": 481,
    "start_time": "2025-01-22T03:29:46.362Z"
   },
   {
    "duration": 39,
    "start_time": "2025-01-22T03:30:30.031Z"
   },
   {
    "duration": 20,
    "start_time": "2025-01-22T03:31:23.613Z"
   },
   {
    "duration": 12,
    "start_time": "2025-01-22T03:31:26.924Z"
   },
   {
    "duration": 1064,
    "start_time": "2025-01-22T03:31:30.669Z"
   },
   {
    "duration": 36316,
    "start_time": "2025-01-22T03:31:41.746Z"
   },
   {
    "duration": 4736,
    "start_time": "2025-01-22T03:33:15.363Z"
   },
   {
    "duration": 9,
    "start_time": "2025-01-22T03:42:28.225Z"
   },
   {
    "duration": 17,
    "start_time": "2025-01-22T03:45:02.780Z"
   },
   {
    "duration": 4,
    "start_time": "2025-01-22T03:45:09.509Z"
   },
   {
    "duration": 499,
    "start_time": "2025-01-22T03:45:09.516Z"
   },
   {
    "duration": 166,
    "start_time": "2025-01-22T03:45:10.018Z"
   },
   {
    "duration": 158,
    "start_time": "2025-01-22T03:45:10.185Z"
   },
   {
    "duration": 281,
    "start_time": "2025-01-22T03:45:10.346Z"
   },
   {
    "duration": 57,
    "start_time": "2025-01-22T03:45:10.629Z"
   },
   {
    "duration": 1055,
    "start_time": "2025-01-22T03:45:10.688Z"
   },
   {
    "duration": 106,
    "start_time": "2025-01-22T03:45:11.745Z"
   },
   {
    "duration": 75,
    "start_time": "2025-01-22T03:45:11.853Z"
   },
   {
    "duration": 4,
    "start_time": "2025-01-22T03:45:11.929Z"
   },
   {
    "duration": 172,
    "start_time": "2025-01-22T03:45:11.935Z"
   },
   {
    "duration": 46,
    "start_time": "2025-01-22T03:45:12.109Z"
   },
   {
    "duration": 94,
    "start_time": "2025-01-22T03:45:12.157Z"
   },
   {
    "duration": 884,
    "start_time": "2025-01-22T03:45:12.255Z"
   },
   {
    "duration": 18,
    "start_time": "2025-01-22T03:45:13.141Z"
   },
   {
    "duration": 3,
    "start_time": "2025-01-22T03:45:13.161Z"
   },
   {
    "duration": 3,
    "start_time": "2025-01-22T03:45:13.166Z"
   },
   {
    "duration": 89,
    "start_time": "2025-01-22T03:45:13.171Z"
   },
   {
    "duration": 13,
    "start_time": "2025-01-22T03:45:13.261Z"
   },
   {
    "duration": 154,
    "start_time": "2025-01-22T03:45:13.276Z"
   },
   {
    "duration": 235,
    "start_time": "2025-01-22T03:45:18.315Z"
   },
   {
    "duration": 4,
    "start_time": "2025-01-22T03:47:04.955Z"
   },
   {
    "duration": 454,
    "start_time": "2025-01-22T03:47:04.962Z"
   },
   {
    "duration": 162,
    "start_time": "2025-01-22T03:47:05.418Z"
   },
   {
    "duration": 163,
    "start_time": "2025-01-22T03:47:05.582Z"
   },
   {
    "duration": 279,
    "start_time": "2025-01-22T03:47:05.748Z"
   },
   {
    "duration": 56,
    "start_time": "2025-01-22T03:47:06.028Z"
   },
   {
    "duration": 1043,
    "start_time": "2025-01-22T03:47:06.086Z"
   },
   {
    "duration": 104,
    "start_time": "2025-01-22T03:47:07.131Z"
   },
   {
    "duration": 66,
    "start_time": "2025-01-22T03:47:07.236Z"
   },
   {
    "duration": 19,
    "start_time": "2025-01-22T03:47:07.305Z"
   },
   {
    "duration": 168,
    "start_time": "2025-01-22T03:47:07.326Z"
   },
   {
    "duration": 56,
    "start_time": "2025-01-22T03:47:07.496Z"
   },
   {
    "duration": 91,
    "start_time": "2025-01-22T03:47:07.554Z"
   },
   {
    "duration": 924,
    "start_time": "2025-01-22T03:47:07.647Z"
   },
   {
    "duration": 12,
    "start_time": "2025-01-22T03:47:08.573Z"
   },
   {
    "duration": 3,
    "start_time": "2025-01-22T03:47:08.587Z"
   },
   {
    "duration": 2,
    "start_time": "2025-01-22T03:47:08.592Z"
   },
   {
    "duration": 82,
    "start_time": "2025-01-22T03:47:08.596Z"
   },
   {
    "duration": 11,
    "start_time": "2025-01-22T03:47:08.679Z"
   },
   {
    "duration": 1036,
    "start_time": "2025-01-22T03:50:18.630Z"
   },
   {
    "duration": 526,
    "start_time": "2025-01-22T03:50:19.668Z"
   },
   {
    "duration": 243,
    "start_time": "2025-01-22T03:50:20.196Z"
   },
   {
    "duration": 176,
    "start_time": "2025-01-22T03:50:20.440Z"
   },
   {
    "duration": 340,
    "start_time": "2025-01-22T03:50:20.619Z"
   },
   {
    "duration": 67,
    "start_time": "2025-01-22T03:50:20.963Z"
   },
   {
    "duration": 1069,
    "start_time": "2025-01-22T03:50:21.032Z"
   },
   {
    "duration": 105,
    "start_time": "2025-01-22T03:50:22.102Z"
   },
   {
    "duration": 79,
    "start_time": "2025-01-22T03:50:22.209Z"
   },
   {
    "duration": 3,
    "start_time": "2025-01-22T03:50:22.290Z"
   },
   {
    "duration": 172,
    "start_time": "2025-01-22T03:50:22.295Z"
   },
   {
    "duration": 44,
    "start_time": "2025-01-22T03:50:22.469Z"
   },
   {
    "duration": 83,
    "start_time": "2025-01-22T03:50:22.524Z"
   },
   {
    "duration": 927,
    "start_time": "2025-01-22T03:50:22.610Z"
   },
   {
    "duration": 13,
    "start_time": "2025-01-22T03:50:23.538Z"
   },
   {
    "duration": 3,
    "start_time": "2025-01-22T03:50:23.553Z"
   },
   {
    "duration": 3,
    "start_time": "2025-01-22T03:50:23.558Z"
   },
   {
    "duration": 77,
    "start_time": "2025-01-22T03:50:23.563Z"
   },
   {
    "duration": 10,
    "start_time": "2025-01-22T03:50:23.642Z"
   },
   {
    "duration": 472,
    "start_time": "2025-01-22T03:50:35.803Z"
   },
   {
    "duration": 1018,
    "start_time": "2025-01-22T03:51:59.013Z"
   },
   {
    "duration": 900,
    "start_time": "2025-01-22T03:53:06.654Z"
   },
   {
    "duration": 1548,
    "start_time": "2025-01-22T03:53:22.423Z"
   },
   {
    "duration": 153135,
    "start_time": "2025-01-22T03:53:42.079Z"
   },
   {
    "duration": 161,
    "start_time": "2025-01-22T04:05:49.990Z"
   },
   {
    "duration": 1076,
    "start_time": "2025-01-22T04:06:00.074Z"
   },
   {
    "duration": 619,
    "start_time": "2025-01-22T04:06:01.153Z"
   },
   {
    "duration": 198,
    "start_time": "2025-01-22T04:06:01.774Z"
   },
   {
    "duration": 172,
    "start_time": "2025-01-22T04:06:01.973Z"
   },
   {
    "duration": 324,
    "start_time": "2025-01-22T04:06:02.148Z"
   },
   {
    "duration": 66,
    "start_time": "2025-01-22T04:06:02.474Z"
   },
   {
    "duration": 1185,
    "start_time": "2025-01-22T04:06:02.543Z"
   },
   {
    "duration": 160,
    "start_time": "2025-01-22T04:06:03.730Z"
   },
   {
    "duration": 82,
    "start_time": "2025-01-22T04:06:03.892Z"
   },
   {
    "duration": 4,
    "start_time": "2025-01-22T04:06:03.975Z"
   },
   {
    "duration": 174,
    "start_time": "2025-01-22T04:06:03.981Z"
   },
   {
    "duration": 43,
    "start_time": "2025-01-22T04:06:04.157Z"
   },
   {
    "duration": 98,
    "start_time": "2025-01-22T04:06:04.202Z"
   },
   {
    "duration": 917,
    "start_time": "2025-01-22T04:06:04.303Z"
   },
   {
    "duration": 14,
    "start_time": "2025-01-22T04:06:05.224Z"
   },
   {
    "duration": 4,
    "start_time": "2025-01-22T04:06:05.240Z"
   },
   {
    "duration": 3,
    "start_time": "2025-01-22T04:06:05.246Z"
   },
   {
    "duration": 89,
    "start_time": "2025-01-22T04:06:05.250Z"
   },
   {
    "duration": 15,
    "start_time": "2025-01-22T04:06:05.342Z"
   },
   {
    "duration": 1076,
    "start_time": "2025-01-22T04:06:05.359Z"
   },
   {
    "duration": 1662,
    "start_time": "2025-01-22T04:06:06.440Z"
   },
   {
    "duration": 2924386,
    "start_time": "2025-01-22T04:06:12.228Z"
   },
   {
    "duration": 166233,
    "start_time": "2025-01-22T04:58:00.156Z"
   },
   {
    "duration": 159,
    "start_time": "2025-01-22T05:05:21.428Z"
   },
   {
    "duration": 1057,
    "start_time": "2025-01-22T05:07:12.943Z"
   },
   {
    "duration": 581,
    "start_time": "2025-01-22T05:07:14.002Z"
   },
   {
    "duration": 195,
    "start_time": "2025-01-22T05:07:14.586Z"
   },
   {
    "duration": 168,
    "start_time": "2025-01-22T05:07:14.784Z"
   },
   {
    "duration": 321,
    "start_time": "2025-01-22T05:07:14.955Z"
   },
   {
    "duration": 66,
    "start_time": "2025-01-22T05:07:15.277Z"
   },
   {
    "duration": 1031,
    "start_time": "2025-01-22T05:07:15.344Z"
   },
   {
    "duration": 104,
    "start_time": "2025-01-22T05:07:16.377Z"
   },
   {
    "duration": 77,
    "start_time": "2025-01-22T05:07:16.483Z"
   },
   {
    "duration": 3,
    "start_time": "2025-01-22T05:07:16.563Z"
   },
   {
    "duration": 176,
    "start_time": "2025-01-22T05:07:16.568Z"
   },
   {
    "duration": 44,
    "start_time": "2025-01-22T05:07:16.746Z"
   },
   {
    "duration": 100,
    "start_time": "2025-01-22T05:07:16.792Z"
   },
   {
    "duration": 910,
    "start_time": "2025-01-22T05:07:16.893Z"
   },
   {
    "duration": 20,
    "start_time": "2025-01-22T05:07:17.805Z"
   },
   {
    "duration": 7,
    "start_time": "2025-01-22T05:07:17.827Z"
   },
   {
    "duration": 3,
    "start_time": "2025-01-22T05:07:17.836Z"
   },
   {
    "duration": 58,
    "start_time": "2025-01-22T05:07:17.841Z"
   },
   {
    "duration": 32,
    "start_time": "2025-01-22T05:07:17.901Z"
   },
   {
    "duration": 988,
    "start_time": "2025-01-22T05:07:17.936Z"
   },
   {
    "duration": 1599,
    "start_time": "2025-01-22T05:07:18.926Z"
   },
   {
    "duration": 329562,
    "start_time": "2025-01-22T05:07:20.526Z"
   },
   {
    "duration": 0,
    "start_time": "2025-01-22T05:12:50.089Z"
   },
   {
    "duration": 0,
    "start_time": "2025-01-22T05:12:50.090Z"
   },
   {
    "duration": 2741,
    "start_time": "2025-01-22T13:22:07.628Z"
   },
   {
    "duration": 552,
    "start_time": "2025-01-22T13:22:10.372Z"
   },
   {
    "duration": 185,
    "start_time": "2025-01-22T13:22:10.926Z"
   },
   {
    "duration": 169,
    "start_time": "2025-01-22T13:22:11.114Z"
   },
   {
    "duration": 330,
    "start_time": "2025-01-22T13:22:11.287Z"
   },
   {
    "duration": 56,
    "start_time": "2025-01-22T13:22:11.619Z"
   },
   {
    "duration": 1019,
    "start_time": "2025-01-22T13:22:11.687Z"
   },
   {
    "duration": 103,
    "start_time": "2025-01-22T13:22:12.709Z"
   },
   {
    "duration": 76,
    "start_time": "2025-01-22T13:22:12.814Z"
   },
   {
    "duration": 3,
    "start_time": "2025-01-22T13:22:12.893Z"
   },
   {
    "duration": 169,
    "start_time": "2025-01-22T13:22:12.898Z"
   },
   {
    "duration": 55,
    "start_time": "2025-01-22T13:22:13.069Z"
   },
   {
    "duration": 105,
    "start_time": "2025-01-22T13:22:13.126Z"
   },
   {
    "duration": 888,
    "start_time": "2025-01-22T13:22:13.233Z"
   },
   {
    "duration": 13,
    "start_time": "2025-01-22T13:22:14.122Z"
   },
   {
    "duration": 3,
    "start_time": "2025-01-22T13:22:14.137Z"
   },
   {
    "duration": 3,
    "start_time": "2025-01-22T13:22:14.142Z"
   },
   {
    "duration": 76,
    "start_time": "2025-01-22T13:22:14.146Z"
   },
   {
    "duration": 10,
    "start_time": "2025-01-22T13:22:14.226Z"
   },
   {
    "duration": 963,
    "start_time": "2025-01-22T13:22:14.237Z"
   },
   {
    "duration": 1638,
    "start_time": "2025-01-22T13:22:15.202Z"
   },
   {
    "duration": 826289,
    "start_time": "2025-01-22T13:22:16.842Z"
   },
   {
    "duration": 0,
    "start_time": "2025-01-22T13:36:03.133Z"
   },
   {
    "duration": 0,
    "start_time": "2025-01-22T13:36:03.134Z"
   },
   {
    "duration": 159,
    "start_time": "2025-01-22T23:50:03.253Z"
   },
   {
    "duration": 17,
    "start_time": "2025-01-22T23:50:17.004Z"
   },
   {
    "duration": 2789,
    "start_time": "2025-01-22T23:51:01.289Z"
   },
   {
    "duration": 565,
    "start_time": "2025-01-22T23:51:04.081Z"
   },
   {
    "duration": 184,
    "start_time": "2025-01-22T23:51:04.648Z"
   },
   {
    "duration": 172,
    "start_time": "2025-01-22T23:51:04.834Z"
   },
   {
    "duration": 334,
    "start_time": "2025-01-22T23:51:05.008Z"
   },
   {
    "duration": 65,
    "start_time": "2025-01-22T23:51:05.343Z"
   },
   {
    "duration": 1021,
    "start_time": "2025-01-22T23:51:05.410Z"
   },
   {
    "duration": 121,
    "start_time": "2025-01-22T23:51:06.433Z"
   },
   {
    "duration": 76,
    "start_time": "2025-01-22T23:51:06.556Z"
   },
   {
    "duration": 3,
    "start_time": "2025-01-22T23:51:06.634Z"
   },
   {
    "duration": 176,
    "start_time": "2025-01-22T23:51:06.639Z"
   },
   {
    "duration": 47,
    "start_time": "2025-01-22T23:51:06.817Z"
   },
   {
    "duration": 100,
    "start_time": "2025-01-22T23:51:06.867Z"
   },
   {
    "duration": 865,
    "start_time": "2025-01-22T23:51:06.970Z"
   },
   {
    "duration": 13,
    "start_time": "2025-01-22T23:51:07.836Z"
   },
   {
    "duration": 5,
    "start_time": "2025-01-22T23:51:07.850Z"
   },
   {
    "duration": 3,
    "start_time": "2025-01-22T23:51:07.857Z"
   },
   {
    "duration": 85,
    "start_time": "2025-01-22T23:51:07.862Z"
   },
   {
    "duration": 11,
    "start_time": "2025-01-22T23:51:07.948Z"
   },
   {
    "duration": 957,
    "start_time": "2025-01-22T23:51:07.960Z"
   },
   {
    "duration": 1685,
    "start_time": "2025-01-22T23:51:08.920Z"
   },
   {
    "duration": 2952055,
    "start_time": "2025-01-22T23:51:10.607Z"
   },
   {
    "duration": 205,
    "start_time": "2025-01-23T00:45:12.342Z"
   },
   {
    "duration": 1059,
    "start_time": "2025-01-23T00:45:34.345Z"
   },
   {
    "duration": 5,
    "start_time": "2025-01-23T00:45:51.078Z"
   },
   {
    "duration": 635,
    "start_time": "2025-01-23T00:45:51.085Z"
   },
   {
    "duration": 185,
    "start_time": "2025-01-23T00:45:51.722Z"
   },
   {
    "duration": 175,
    "start_time": "2025-01-23T00:45:51.910Z"
   },
   {
    "duration": 373,
    "start_time": "2025-01-23T00:45:52.086Z"
   },
   {
    "duration": 68,
    "start_time": "2025-01-23T00:45:52.461Z"
   },
   {
    "duration": 1130,
    "start_time": "2025-01-23T00:45:52.531Z"
   },
   {
    "duration": 106,
    "start_time": "2025-01-23T00:45:53.663Z"
   },
   {
    "duration": 73,
    "start_time": "2025-01-23T00:45:53.772Z"
   },
   {
    "duration": 4,
    "start_time": "2025-01-23T00:45:53.846Z"
   },
   {
    "duration": 216,
    "start_time": "2025-01-23T00:45:53.852Z"
   },
   {
    "duration": 49,
    "start_time": "2025-01-23T00:45:54.070Z"
   },
   {
    "duration": 99,
    "start_time": "2025-01-23T00:45:54.123Z"
   },
   {
    "duration": 915,
    "start_time": "2025-01-23T00:45:54.224Z"
   },
   {
    "duration": 12,
    "start_time": "2025-01-23T00:45:55.141Z"
   },
   {
    "duration": 4,
    "start_time": "2025-01-23T00:45:55.155Z"
   },
   {
    "duration": 5,
    "start_time": "2025-01-23T00:45:55.160Z"
   },
   {
    "duration": 73,
    "start_time": "2025-01-23T00:45:55.166Z"
   },
   {
    "duration": 11,
    "start_time": "2025-01-23T00:45:55.241Z"
   },
   {
    "duration": 851061,
    "start_time": "2025-01-23T00:46:04.288Z"
   },
   {
    "duration": 20085,
    "start_time": "2025-01-23T01:41:40.856Z"
   },
   {
    "duration": 592380,
    "start_time": "2025-01-23T01:42:18.225Z"
   },
   {
    "duration": 0,
    "start_time": "2025-01-23T01:52:10.607Z"
   },
   {
    "duration": 1006,
    "start_time": "2025-01-23T01:53:17.758Z"
   },
   {
    "duration": 546,
    "start_time": "2025-01-23T01:53:18.768Z"
   },
   {
    "duration": 213,
    "start_time": "2025-01-23T01:53:19.315Z"
   },
   {
    "duration": 181,
    "start_time": "2025-01-23T01:53:19.530Z"
   },
   {
    "duration": 355,
    "start_time": "2025-01-23T01:53:19.713Z"
   },
   {
    "duration": 69,
    "start_time": "2025-01-23T01:53:20.071Z"
   },
   {
    "duration": 1063,
    "start_time": "2025-01-23T01:53:20.143Z"
   },
   {
    "duration": 104,
    "start_time": "2025-01-23T01:53:21.208Z"
   },
   {
    "duration": 66,
    "start_time": "2025-01-23T01:53:21.313Z"
   },
   {
    "duration": 4,
    "start_time": "2025-01-23T01:53:21.383Z"
   },
   {
    "duration": 169,
    "start_time": "2025-01-23T01:53:21.405Z"
   },
   {
    "duration": 52,
    "start_time": "2025-01-23T01:53:21.576Z"
   },
   {
    "duration": 109,
    "start_time": "2025-01-23T01:53:21.630Z"
   },
   {
    "duration": 947,
    "start_time": "2025-01-23T01:53:21.742Z"
   },
   {
    "duration": 18,
    "start_time": "2025-01-23T01:53:22.691Z"
   },
   {
    "duration": 5,
    "start_time": "2025-01-23T01:53:22.712Z"
   },
   {
    "duration": 4,
    "start_time": "2025-01-23T01:53:22.720Z"
   },
   {
    "duration": 57,
    "start_time": "2025-01-23T01:53:22.726Z"
   },
   {
    "duration": 28,
    "start_time": "2025-01-23T01:53:22.784Z"
   },
   {
    "duration": 922,
    "start_time": "2025-01-23T01:53:22.814Z"
   },
   {
    "duration": 1702,
    "start_time": "2025-01-23T01:53:23.738Z"
   },
   {
    "duration": 855129,
    "start_time": "2025-01-23T01:53:43.347Z"
   },
   {
    "duration": 63339,
    "start_time": "2025-01-23T02:18:16.982Z"
   },
   {
    "duration": 330,
    "start_time": "2025-01-23T02:19:31.513Z"
   },
   {
    "duration": 4027,
    "start_time": "2025-01-23T03:46:43.598Z"
   },
   {
    "duration": 4,
    "start_time": "2025-01-23T03:47:54.960Z"
   },
   {
    "duration": 4224,
    "start_time": "2025-01-23T03:48:04.085Z"
   },
   {
    "duration": 993,
    "start_time": "2025-01-23T03:50:39.112Z"
   },
   {
    "duration": 1574,
    "start_time": "2025-01-23T03:50:51.847Z"
   },
   {
    "duration": 840129,
    "start_time": "2025-01-23T03:51:21.704Z"
   },
   {
    "duration": 842131,
    "start_time": "2025-01-23T04:09:41.522Z"
   },
   {
    "duration": 1397,
    "start_time": "2025-01-23T04:23:58.128Z"
   },
   {
    "duration": 4,
    "start_time": "2025-01-23T04:24:19.436Z"
   },
   {
    "duration": 25273,
    "start_time": "2025-01-23T04:24:28.754Z"
   },
   {
    "duration": 2802,
    "start_time": "2025-01-23T10:06:19.430Z"
   },
   {
    "duration": 570,
    "start_time": "2025-01-23T10:06:22.235Z"
   },
   {
    "duration": 202,
    "start_time": "2025-01-23T10:06:22.807Z"
   },
   {
    "duration": 170,
    "start_time": "2025-01-23T10:06:23.011Z"
   },
   {
    "duration": 321,
    "start_time": "2025-01-23T10:06:23.183Z"
   },
   {
    "duration": 60,
    "start_time": "2025-01-23T10:06:23.506Z"
   },
   {
    "duration": 1039,
    "start_time": "2025-01-23T10:06:23.568Z"
   },
   {
    "duration": 107,
    "start_time": "2025-01-23T10:06:24.608Z"
   },
   {
    "duration": 72,
    "start_time": "2025-01-23T10:06:24.717Z"
   },
   {
    "duration": 3,
    "start_time": "2025-01-23T10:06:24.793Z"
   },
   {
    "duration": 179,
    "start_time": "2025-01-23T10:06:24.798Z"
   },
   {
    "duration": 52,
    "start_time": "2025-01-23T10:06:24.979Z"
   },
   {
    "duration": 86,
    "start_time": "2025-01-23T10:06:25.033Z"
   },
   {
    "duration": 899,
    "start_time": "2025-01-23T10:06:25.534Z"
   },
   {
    "duration": 13,
    "start_time": "2025-01-23T10:06:26.571Z"
   },
   {
    "duration": 3,
    "start_time": "2025-01-23T10:06:29.045Z"
   },
   {
    "duration": 2,
    "start_time": "2025-01-23T10:06:29.187Z"
   },
   {
    "duration": 60,
    "start_time": "2025-01-23T10:06:29.567Z"
   },
   {
    "duration": 11,
    "start_time": "2025-01-23T10:06:33.273Z"
   },
   {
    "duration": 3,
    "start_time": "2025-01-23T10:09:15.860Z"
   },
   {
    "duration": 2740,
    "start_time": "2025-01-24T01:55:49.849Z"
   },
   {
    "duration": 561,
    "start_time": "2025-01-24T01:55:52.592Z"
   },
   {
    "duration": 203,
    "start_time": "2025-01-24T01:55:53.155Z"
   },
   {
    "duration": 184,
    "start_time": "2025-01-24T01:55:53.360Z"
   },
   {
    "duration": 324,
    "start_time": "2025-01-24T01:55:53.547Z"
   },
   {
    "duration": 57,
    "start_time": "2025-01-24T01:55:53.873Z"
   },
   {
    "duration": 298,
    "start_time": "2025-01-24T01:55:53.932Z"
   },
   {
    "duration": 14,
    "start_time": "2025-01-24T01:56:20.235Z"
   },
   {
    "duration": 5,
    "start_time": "2025-01-24T01:56:33.120Z"
   },
   {
    "duration": 14,
    "start_time": "2025-01-24T01:56:42.762Z"
   },
   {
    "duration": 2851,
    "start_time": "2025-01-24T01:57:57.395Z"
   },
   {
    "duration": 97,
    "start_time": "2025-01-24T01:58:25.838Z"
   },
   {
    "duration": 70,
    "start_time": "2025-01-24T01:58:26.886Z"
   },
   {
    "duration": 3,
    "start_time": "2025-01-24T02:00:39.916Z"
   },
   {
    "duration": 16,
    "start_time": "2025-01-24T02:01:07.751Z"
   },
   {
    "duration": 5,
    "start_time": "2025-01-24T02:01:16.315Z"
   },
   {
    "duration": 513,
    "start_time": "2025-01-24T02:01:16.323Z"
   },
   {
    "duration": 167,
    "start_time": "2025-01-24T02:01:16.838Z"
   },
   {
    "duration": 136,
    "start_time": "2025-01-24T02:01:17.007Z"
   },
   {
    "duration": 311,
    "start_time": "2025-01-24T02:01:17.144Z"
   },
   {
    "duration": 62,
    "start_time": "2025-01-24T02:01:17.457Z"
   },
   {
    "duration": 2814,
    "start_time": "2025-01-24T02:01:17.521Z"
   },
   {
    "duration": 696,
    "start_time": "2025-01-24T02:01:20.336Z"
   },
   {
    "duration": 40,
    "start_time": "2025-01-24T02:12:55.366Z"
   },
   {
    "duration": 14,
    "start_time": "2025-01-24T02:12:55.409Z"
   },
   {
    "duration": 0,
    "start_time": "2025-01-24T02:12:55.424Z"
   },
   {
    "duration": 0,
    "start_time": "2025-01-24T02:12:55.425Z"
   },
   {
    "duration": 0,
    "start_time": "2025-01-24T02:12:55.427Z"
   },
   {
    "duration": 6,
    "start_time": "2025-01-24T02:13:21.587Z"
   },
   {
    "duration": 481,
    "start_time": "2025-01-24T02:13:21.595Z"
   },
   {
    "duration": 163,
    "start_time": "2025-01-24T02:13:22.078Z"
   },
   {
    "duration": 137,
    "start_time": "2025-01-24T02:13:22.243Z"
   },
   {
    "duration": 289,
    "start_time": "2025-01-24T02:13:22.382Z"
   },
   {
    "duration": 57,
    "start_time": "2025-01-24T02:13:22.672Z"
   },
   {
    "duration": 2816,
    "start_time": "2025-01-24T02:13:22.731Z"
   },
   {
    "duration": 709,
    "start_time": "2025-01-24T02:13:25.549Z"
   },
   {
    "duration": 100,
    "start_time": "2025-01-24T02:13:26.260Z"
   },
   {
    "duration": 624,
    "start_time": "2025-01-24T02:13:26.362Z"
   },
   {
    "duration": 0,
    "start_time": "2025-01-24T02:13:26.988Z"
   },
   {
    "duration": 0,
    "start_time": "2025-01-24T02:13:26.990Z"
   },
   {
    "duration": 0,
    "start_time": "2025-01-24T02:13:26.991Z"
   },
   {
    "duration": 0,
    "start_time": "2025-01-24T02:13:26.993Z"
   },
   {
    "duration": 0,
    "start_time": "2025-01-24T02:13:26.995Z"
   },
   {
    "duration": 0,
    "start_time": "2025-01-24T02:13:26.996Z"
   },
   {
    "duration": 0,
    "start_time": "2025-01-24T02:13:26.998Z"
   },
   {
    "duration": 3,
    "start_time": "2025-01-24T02:16:34.070Z"
   },
   {
    "duration": 59,
    "start_time": "2025-01-24T02:16:40.435Z"
   },
   {
    "duration": 21,
    "start_time": "2025-01-24T02:18:21.185Z"
   },
   {
    "duration": 24,
    "start_time": "2025-01-24T02:19:24.979Z"
   },
   {
    "duration": 5,
    "start_time": "2025-01-24T02:19:48.131Z"
   },
   {
    "duration": 447,
    "start_time": "2025-01-24T02:19:48.138Z"
   },
   {
    "duration": 171,
    "start_time": "2025-01-24T02:19:48.587Z"
   },
   {
    "duration": 143,
    "start_time": "2025-01-24T02:19:48.760Z"
   },
   {
    "duration": 291,
    "start_time": "2025-01-24T02:19:48.906Z"
   },
   {
    "duration": 62,
    "start_time": "2025-01-24T02:19:49.199Z"
   },
   {
    "duration": 2845,
    "start_time": "2025-01-24T02:19:49.270Z"
   },
   {
    "duration": 685,
    "start_time": "2025-01-24T02:19:52.116Z"
   },
   {
    "duration": 25,
    "start_time": "2025-01-24T02:19:52.803Z"
   },
   {
    "duration": 4,
    "start_time": "2025-01-24T02:19:52.829Z"
   },
   {
    "duration": 4,
    "start_time": "2025-01-24T02:19:52.834Z"
   },
   {
    "duration": 60,
    "start_time": "2025-01-24T02:19:52.839Z"
   },
   {
    "duration": 31,
    "start_time": "2025-01-24T02:19:52.901Z"
   },
   {
    "duration": 376,
    "start_time": "2025-01-24T02:19:52.934Z"
   },
   {
    "duration": 65,
    "start_time": "2025-01-24T02:20:25.423Z"
   },
   {
    "duration": 76,
    "start_time": "2025-01-24T02:20:42.994Z"
   },
   {
    "duration": 1122,
    "start_time": "2025-01-24T02:20:43.859Z"
   },
   {
    "duration": 1573,
    "start_time": "2025-01-24T02:21:50.442Z"
   },
   {
    "duration": 466993,
    "start_time": "2025-01-24T02:22:02.071Z"
   },
   {
    "duration": 17,
    "start_time": "2025-01-24T02:29:50.680Z"
   },
   {
    "duration": 6,
    "start_time": "2025-01-24T02:29:59.417Z"
   },
   {
    "duration": 490,
    "start_time": "2025-01-24T02:29:59.426Z"
   },
   {
    "duration": 164,
    "start_time": "2025-01-24T02:29:59.919Z"
   },
   {
    "duration": 152,
    "start_time": "2025-01-24T02:30:00.086Z"
   },
   {
    "duration": 338,
    "start_time": "2025-01-24T02:30:00.240Z"
   },
   {
    "duration": 56,
    "start_time": "2025-01-24T02:30:00.580Z"
   },
   {
    "duration": 2878,
    "start_time": "2025-01-24T02:30:00.637Z"
   },
   {
    "duration": 682,
    "start_time": "2025-01-24T02:30:03.518Z"
   },
   {
    "duration": 22,
    "start_time": "2025-01-24T02:30:04.203Z"
   },
   {
    "duration": 3,
    "start_time": "2025-01-24T02:30:04.227Z"
   },
   {
    "duration": 3,
    "start_time": "2025-01-24T02:30:04.232Z"
   },
   {
    "duration": 59,
    "start_time": "2025-01-24T02:30:04.236Z"
   },
   {
    "duration": 30,
    "start_time": "2025-01-24T02:30:04.297Z"
   },
   {
    "duration": 74,
    "start_time": "2025-01-24T02:30:04.329Z"
   },
   {
    "duration": 902,
    "start_time": "2025-01-24T02:30:04.405Z"
   },
   {
    "duration": 1548,
    "start_time": "2025-01-24T02:31:41.322Z"
   },
   {
    "duration": 5,
    "start_time": "2025-01-24T02:31:54.592Z"
   },
   {
    "duration": 465,
    "start_time": "2025-01-24T02:31:54.599Z"
   },
   {
    "duration": 171,
    "start_time": "2025-01-24T02:31:55.070Z"
   },
   {
    "duration": 152,
    "start_time": "2025-01-24T02:31:55.243Z"
   },
   {
    "duration": 312,
    "start_time": "2025-01-24T02:31:55.398Z"
   },
   {
    "duration": 70,
    "start_time": "2025-01-24T02:31:55.712Z"
   },
   {
    "duration": 3012,
    "start_time": "2025-01-24T02:31:55.784Z"
   },
   {
    "duration": 689,
    "start_time": "2025-01-24T02:31:58.800Z"
   },
   {
    "duration": 24,
    "start_time": "2025-01-24T02:31:59.491Z"
   },
   {
    "duration": 4,
    "start_time": "2025-01-24T02:31:59.517Z"
   },
   {
    "duration": 3,
    "start_time": "2025-01-24T02:31:59.522Z"
   },
   {
    "duration": 59,
    "start_time": "2025-01-24T02:31:59.527Z"
   },
   {
    "duration": 31,
    "start_time": "2025-01-24T02:31:59.588Z"
   },
   {
    "duration": 75,
    "start_time": "2025-01-24T02:31:59.623Z"
   },
   {
    "duration": 984,
    "start_time": "2025-01-24T02:31:59.700Z"
   },
   {
    "duration": 1641,
    "start_time": "2025-01-24T02:32:00.688Z"
   },
   {
    "duration": 1025,
    "start_time": "2025-01-24T02:32:24.116Z"
   },
   {
    "duration": 513,
    "start_time": "2025-01-24T02:32:25.143Z"
   },
   {
    "duration": 189,
    "start_time": "2025-01-24T02:32:25.658Z"
   },
   {
    "duration": 167,
    "start_time": "2025-01-24T02:32:25.849Z"
   },
   {
    "duration": 344,
    "start_time": "2025-01-24T02:32:26.018Z"
   },
   {
    "duration": 64,
    "start_time": "2025-01-24T02:32:26.363Z"
   },
   {
    "duration": 2878,
    "start_time": "2025-01-24T02:32:26.428Z"
   },
   {
    "duration": 703,
    "start_time": "2025-01-24T02:32:29.308Z"
   },
   {
    "duration": 26,
    "start_time": "2025-01-24T02:32:30.013Z"
   },
   {
    "duration": 3,
    "start_time": "2025-01-24T02:32:30.041Z"
   },
   {
    "duration": 3,
    "start_time": "2025-01-24T02:32:30.046Z"
   },
   {
    "duration": 38,
    "start_time": "2025-01-24T02:32:30.069Z"
   },
   {
    "duration": 31,
    "start_time": "2025-01-24T02:32:30.109Z"
   },
   {
    "duration": 83,
    "start_time": "2025-01-24T02:32:30.143Z"
   },
   {
    "duration": 945,
    "start_time": "2025-01-24T02:32:30.227Z"
   },
   {
    "duration": 1627,
    "start_time": "2025-01-24T02:32:31.176Z"
   },
   {
    "duration": 2886569,
    "start_time": "2025-01-24T02:32:42.202Z"
   },
   {
    "duration": 161,
    "start_time": "2025-01-24T03:28:04.600Z"
   },
   {
    "duration": 1027,
    "start_time": "2025-01-24T03:28:14.361Z"
   },
   {
    "duration": 545,
    "start_time": "2025-01-24T03:28:15.390Z"
   },
   {
    "duration": 183,
    "start_time": "2025-01-24T03:28:15.936Z"
   },
   {
    "duration": 179,
    "start_time": "2025-01-24T03:28:16.121Z"
   },
   {
    "duration": 379,
    "start_time": "2025-01-24T03:28:16.302Z"
   },
   {
    "duration": 58,
    "start_time": "2025-01-24T03:28:16.683Z"
   },
   {
    "duration": 2860,
    "start_time": "2025-01-24T03:28:16.743Z"
   },
   {
    "duration": 708,
    "start_time": "2025-01-24T03:28:19.605Z"
   },
   {
    "duration": 22,
    "start_time": "2025-01-24T03:28:20.315Z"
   },
   {
    "duration": 4,
    "start_time": "2025-01-24T03:28:20.339Z"
   },
   {
    "duration": 3,
    "start_time": "2025-01-24T03:28:20.344Z"
   },
   {
    "duration": 39,
    "start_time": "2025-01-24T03:28:20.369Z"
   },
   {
    "duration": 31,
    "start_time": "2025-01-24T03:28:20.410Z"
   },
   {
    "duration": 81,
    "start_time": "2025-01-24T03:28:20.444Z"
   },
   {
    "duration": 1051,
    "start_time": "2025-01-24T03:28:20.527Z"
   },
   {
    "duration": 1700,
    "start_time": "2025-01-24T03:28:21.581Z"
   },
   {
    "duration": 3002145,
    "start_time": "2025-01-24T03:28:34.086Z"
   },
   {
    "duration": 175,
    "start_time": "2025-01-24T04:31:11.190Z"
   },
   {
    "duration": 1044,
    "start_time": "2025-01-24T04:31:24.153Z"
   },
   {
    "duration": 610,
    "start_time": "2025-01-24T04:31:25.200Z"
   },
   {
    "duration": 210,
    "start_time": "2025-01-24T04:31:25.812Z"
   },
   {
    "duration": 195,
    "start_time": "2025-01-24T04:31:26.025Z"
   },
   {
    "duration": 387,
    "start_time": "2025-01-24T04:31:26.223Z"
   },
   {
    "duration": 69,
    "start_time": "2025-01-24T04:31:26.612Z"
   },
   {
    "duration": 2844,
    "start_time": "2025-01-24T04:31:26.685Z"
   },
   {
    "duration": 721,
    "start_time": "2025-01-24T04:31:29.531Z"
   },
   {
    "duration": 40,
    "start_time": "2025-01-24T04:31:30.254Z"
   },
   {
    "duration": 4,
    "start_time": "2025-01-24T04:31:30.296Z"
   },
   {
    "duration": 3,
    "start_time": "2025-01-24T04:31:30.302Z"
   },
   {
    "duration": 49,
    "start_time": "2025-01-24T04:31:30.307Z"
   },
   {
    "duration": 46,
    "start_time": "2025-01-24T04:31:30.358Z"
   },
   {
    "duration": 87,
    "start_time": "2025-01-24T04:31:30.407Z"
   },
   {
    "duration": 996,
    "start_time": "2025-01-24T04:31:30.496Z"
   },
   {
    "duration": 843047,
    "start_time": "2025-01-24T04:31:37.693Z"
   },
   {
    "duration": 1413,
    "start_time": "2025-01-24T04:48:55.468Z"
   },
   {
    "duration": 27163,
    "start_time": "2025-01-24T04:49:11.763Z"
   },
   {
    "duration": 27157,
    "start_time": "2025-01-24T04:51:10.769Z"
   },
   {
    "duration": 2814,
    "start_time": "2025-01-24T09:10:28.058Z"
   },
   {
    "duration": 559,
    "start_time": "2025-01-24T09:10:30.875Z"
   },
   {
    "duration": 214,
    "start_time": "2025-01-24T09:10:31.436Z"
   },
   {
    "duration": 174,
    "start_time": "2025-01-24T09:10:31.652Z"
   },
   {
    "duration": 334,
    "start_time": "2025-01-24T09:10:31.828Z"
   },
   {
    "duration": 64,
    "start_time": "2025-01-24T09:10:32.164Z"
   },
   {
    "duration": 2764,
    "start_time": "2025-01-24T09:10:32.230Z"
   },
   {
    "duration": 670,
    "start_time": "2025-01-24T09:11:04.868Z"
   },
   {
    "duration": 27,
    "start_time": "2025-01-24T09:11:13.984Z"
   },
   {
    "duration": 3,
    "start_time": "2025-01-24T09:11:16.399Z"
   },
   {
    "duration": 3,
    "start_time": "2025-01-24T09:11:16.539Z"
   },
   {
    "duration": 40,
    "start_time": "2025-01-24T09:11:16.877Z"
   },
   {
    "duration": 33,
    "start_time": "2025-01-24T09:11:17.961Z"
   },
   {
    "duration": 17,
    "start_time": "2025-01-24T09:11:23.988Z"
   },
   {
    "duration": 7,
    "start_time": "2025-01-24T09:11:30.248Z"
   },
   {
    "duration": 6,
    "start_time": "2025-01-24T09:11:32.636Z"
   },
   {
    "duration": 4,
    "start_time": "2025-01-24T09:11:35.709Z"
   },
   {
    "duration": 23,
    "start_time": "2025-01-24T09:11:37.955Z"
   },
   {
    "duration": 5,
    "start_time": "2025-01-24T09:11:59.173Z"
   },
   {
    "duration": 3014,
    "start_time": "2025-01-24T19:41:24.439Z"
   },
   {
    "duration": 646,
    "start_time": "2025-01-24T19:41:27.456Z"
   },
   {
    "duration": 241,
    "start_time": "2025-01-24T19:41:28.105Z"
   },
   {
    "duration": 164,
    "start_time": "2025-01-24T19:41:28.349Z"
   },
   {
    "duration": 343,
    "start_time": "2025-01-24T19:41:28.515Z"
   },
   {
    "duration": 61,
    "start_time": "2025-01-24T19:41:28.860Z"
   },
   {
    "duration": 3092,
    "start_time": "2025-01-24T19:41:28.923Z"
   },
   {
    "duration": 6,
    "start_time": "2025-01-24T19:41:32.018Z"
   },
   {
    "duration": 2,
    "start_time": "2025-01-24T19:42:11.896Z"
   },
   {
    "duration": 707,
    "start_time": "2025-01-24T19:42:18.471Z"
   },
   {
    "duration": 696,
    "start_time": "2025-01-24T19:42:31.716Z"
   },
   {
    "duration": 455,
    "start_time": "2025-01-24T19:47:00.704Z"
   },
   {
    "duration": 1198,
    "start_time": "2025-01-24T20:04:10.305Z"
   },
   {
    "duration": 535,
    "start_time": "2025-01-24T20:04:11.505Z"
   },
   {
    "duration": 237,
    "start_time": "2025-01-24T20:04:12.042Z"
   },
   {
    "duration": 171,
    "start_time": "2025-01-24T20:04:12.283Z"
   },
   {
    "duration": 329,
    "start_time": "2025-01-24T20:04:12.456Z"
   },
   {
    "duration": 66,
    "start_time": "2025-01-24T20:04:12.787Z"
   },
   {
    "duration": 2835,
    "start_time": "2025-01-24T20:04:12.854Z"
   },
   {
    "duration": 2,
    "start_time": "2025-01-24T20:04:15.691Z"
   },
   {
    "duration": 477,
    "start_time": "2025-01-24T20:04:15.695Z"
   },
   {
    "duration": 18,
    "start_time": "2025-01-24T20:04:16.176Z"
   },
   {
    "duration": 4,
    "start_time": "2025-01-24T20:04:16.195Z"
   },
   {
    "duration": 3,
    "start_time": "2025-01-24T20:04:16.201Z"
   },
   {
    "duration": 922,
    "start_time": "2025-01-24T20:04:16.205Z"
   },
   {
    "duration": 0,
    "start_time": "2025-01-24T20:04:17.129Z"
   },
   {
    "duration": 0,
    "start_time": "2025-01-24T20:04:17.130Z"
   },
   {
    "duration": 0,
    "start_time": "2025-01-24T20:04:17.143Z"
   },
   {
    "duration": 0,
    "start_time": "2025-01-24T20:04:17.144Z"
   },
   {
    "duration": 0,
    "start_time": "2025-01-24T20:04:17.146Z"
   },
   {
    "duration": 0,
    "start_time": "2025-01-24T20:04:17.147Z"
   },
   {
    "duration": 0,
    "start_time": "2025-01-24T20:04:17.149Z"
   },
   {
    "duration": 0,
    "start_time": "2025-01-24T20:04:17.150Z"
   },
   {
    "duration": 10,
    "start_time": "2025-01-24T20:05:20.571Z"
   },
   {
    "duration": 86,
    "start_time": "2025-01-24T20:06:34.207Z"
   },
   {
    "duration": 1021,
    "start_time": "2025-01-24T20:13:53.615Z"
   },
   {
    "duration": 503,
    "start_time": "2025-01-24T20:13:54.642Z"
   },
   {
    "duration": 192,
    "start_time": "2025-01-24T20:13:55.147Z"
   },
   {
    "duration": 177,
    "start_time": "2025-01-24T20:13:55.341Z"
   },
   {
    "duration": 342,
    "start_time": "2025-01-24T20:13:55.520Z"
   },
   {
    "duration": 61,
    "start_time": "2025-01-24T20:13:55.864Z"
   },
   {
    "duration": 3376,
    "start_time": "2025-01-24T20:13:55.927Z"
   },
   {
    "duration": 2,
    "start_time": "2025-01-24T20:13:59.305Z"
   },
   {
    "duration": 478,
    "start_time": "2025-01-24T20:13:59.309Z"
   },
   {
    "duration": 4,
    "start_time": "2025-01-24T20:13:59.791Z"
   },
   {
    "duration": 27,
    "start_time": "2025-01-24T20:15:23.076Z"
   },
   {
    "duration": 30,
    "start_time": "2025-01-24T20:15:59.775Z"
   },
   {
    "duration": 4,
    "start_time": "2025-01-24T20:15:59.809Z"
   },
   {
    "duration": 2,
    "start_time": "2025-01-24T20:15:59.816Z"
   },
   {
    "duration": 55,
    "start_time": "2025-01-24T20:15:59.820Z"
   },
   {
    "duration": 12,
    "start_time": "2025-01-24T20:15:59.879Z"
   },
   {
    "duration": 214,
    "start_time": "2025-01-24T20:15:59.893Z"
   },
   {
    "duration": 70,
    "start_time": "2025-01-24T20:16:00.109Z"
   },
   {
    "duration": 1751,
    "start_time": "2025-01-24T20:16:00.181Z"
   },
   {
    "duration": 2836,
    "start_time": "2025-01-24T23:35:41.445Z"
   },
   {
    "duration": 584,
    "start_time": "2025-01-24T23:35:44.283Z"
   },
   {
    "duration": 200,
    "start_time": "2025-01-24T23:35:44.870Z"
   },
   {
    "duration": 176,
    "start_time": "2025-01-24T23:35:45.071Z"
   },
   {
    "duration": 321,
    "start_time": "2025-01-24T23:35:45.250Z"
   },
   {
    "duration": 69,
    "start_time": "2025-01-24T23:35:45.573Z"
   },
   {
    "duration": 2762,
    "start_time": "2025-01-24T23:35:45.644Z"
   },
   {
    "duration": 2,
    "start_time": "2025-01-24T23:35:48.408Z"
   },
   {
    "duration": 468,
    "start_time": "2025-01-24T23:35:48.412Z"
   },
   {
    "duration": 35,
    "start_time": "2025-01-24T23:35:48.882Z"
   },
   {
    "duration": 3,
    "start_time": "2025-01-24T23:35:48.919Z"
   },
   {
    "duration": 2,
    "start_time": "2025-01-24T23:35:48.924Z"
   },
   {
    "duration": 53,
    "start_time": "2025-01-24T23:35:48.928Z"
   },
   {
    "duration": 30,
    "start_time": "2025-01-24T23:35:48.984Z"
   },
   {
    "duration": 257,
    "start_time": "2025-01-24T23:35:49.016Z"
   },
   {
    "duration": 134,
    "start_time": "2025-01-24T23:35:49.275Z"
   },
   {
    "duration": 1794,
    "start_time": "2025-01-24T23:35:49.411Z"
   },
   {
    "duration": 2916507,
    "start_time": "2025-01-24T23:35:51.209Z"
   },
   {
    "duration": 176232,
    "start_time": "2025-01-25T00:24:27.718Z"
   },
   {
    "duration": 0,
    "start_time": "2025-01-25T00:27:23.952Z"
   },
   {
    "duration": 0,
    "start_time": "2025-01-25T00:27:23.953Z"
   },
   {
    "duration": 187652,
    "start_time": "2025-01-25T00:43:21.191Z"
   },
   {
    "duration": 1312,
    "start_time": "2025-01-25T00:49:53.503Z"
   },
   {
    "duration": 24529,
    "start_time": "2025-01-25T00:54:47.523Z"
   },
   {
    "duration": 2766,
    "start_time": "2025-01-25T18:28:55.229Z"
   },
   {
    "duration": 545,
    "start_time": "2025-01-25T18:28:57.998Z"
   },
   {
    "duration": 188,
    "start_time": "2025-01-25T18:28:58.545Z"
   },
   {
    "duration": 177,
    "start_time": "2025-01-25T18:28:58.735Z"
   },
   {
    "duration": 333,
    "start_time": "2025-01-25T18:28:58.913Z"
   },
   {
    "duration": 65,
    "start_time": "2025-01-25T18:28:59.248Z"
   },
   {
    "duration": 2761,
    "start_time": "2025-01-25T18:28:59.315Z"
   },
   {
    "duration": 2,
    "start_time": "2025-01-25T18:29:02.078Z"
   },
   {
    "duration": 451,
    "start_time": "2025-01-25T18:29:02.082Z"
   },
   {
    "duration": 36,
    "start_time": "2025-01-25T18:29:02.536Z"
   },
   {
    "duration": 3,
    "start_time": "2025-01-25T18:29:02.574Z"
   },
   {
    "duration": 4,
    "start_time": "2025-01-25T18:29:02.578Z"
   },
   {
    "duration": 50,
    "start_time": "2025-01-25T18:29:02.584Z"
   },
   {
    "duration": 13,
    "start_time": "2025-01-25T18:29:02.636Z"
   },
   {
    "duration": 237,
    "start_time": "2025-01-25T18:29:02.650Z"
   },
   {
    "duration": 581,
    "start_time": "2025-01-25T18:29:12.135Z"
   },
   {
    "duration": 127,
    "start_time": "2025-01-25T18:30:44.265Z"
   },
   {
    "duration": 237,
    "start_time": "2025-01-25T18:35:26.596Z"
   },
   {
    "duration": 100,
    "start_time": "2025-01-25T18:35:31.491Z"
   },
   {
    "duration": 120,
    "start_time": "2025-01-25T18:35:53.663Z"
   },
   {
    "duration": 1571,
    "start_time": "2025-01-25T18:36:36.377Z"
   },
   {
    "duration": 178576,
    "start_time": "2025-01-25T18:38:48.373Z"
   },
   {
    "duration": 1333,
    "start_time": "2025-01-25T18:42:55.139Z"
   },
   {
    "duration": 24463,
    "start_time": "2025-01-25T18:42:59.867Z"
   },
   {
    "duration": 1028,
    "start_time": "2025-01-25T18:47:17.164Z"
   },
   {
    "duration": 515,
    "start_time": "2025-01-25T18:47:18.195Z"
   },
   {
    "duration": 186,
    "start_time": "2025-01-25T18:47:18.712Z"
   },
   {
    "duration": 176,
    "start_time": "2025-01-25T18:47:18.900Z"
   },
   {
    "duration": 352,
    "start_time": "2025-01-25T18:47:19.078Z"
   },
   {
    "duration": 69,
    "start_time": "2025-01-25T18:47:19.432Z"
   },
   {
    "duration": 2851,
    "start_time": "2025-01-25T18:47:19.502Z"
   },
   {
    "duration": 3,
    "start_time": "2025-01-25T18:47:22.355Z"
   },
   {
    "duration": 448,
    "start_time": "2025-01-25T18:47:22.360Z"
   },
   {
    "duration": 29,
    "start_time": "2025-01-25T18:47:22.812Z"
   },
   {
    "duration": 3,
    "start_time": "2025-01-25T18:47:22.844Z"
   },
   {
    "duration": 21,
    "start_time": "2025-01-25T18:47:22.849Z"
   },
   {
    "duration": 51,
    "start_time": "2025-01-25T18:47:22.872Z"
   },
   {
    "duration": 14,
    "start_time": "2025-01-25T18:47:22.925Z"
   },
   {
    "duration": 221,
    "start_time": "2025-01-25T18:47:22.942Z"
   },
   {
    "duration": 124,
    "start_time": "2025-01-25T18:47:23.164Z"
   },
   {
    "duration": 1674,
    "start_time": "2025-01-25T18:47:23.290Z"
   },
   {
    "duration": 2897830,
    "start_time": "2025-01-25T18:47:24.966Z"
   },
   {
    "duration": 177145,
    "start_time": "2025-01-25T19:35:42.799Z"
   },
   {
    "duration": 1325,
    "start_time": "2025-01-25T19:38:39.946Z"
   },
   {
    "duration": 24459,
    "start_time": "2025-01-25T19:38:41.273Z"
   },
   {
    "duration": 1102,
    "start_time": "2025-04-19T21:07:31.178Z"
   },
   {
    "duration": 565,
    "start_time": "2025-04-19T21:07:32.283Z"
   },
   {
    "duration": 202,
    "start_time": "2025-04-19T21:07:32.850Z"
   },
   {
    "duration": 164,
    "start_time": "2025-04-19T21:07:33.054Z"
   },
   {
    "duration": 309,
    "start_time": "2025-04-19T21:07:33.221Z"
   },
   {
    "duration": 65,
    "start_time": "2025-04-19T21:07:33.532Z"
   },
   {
    "duration": 2828,
    "start_time": "2025-04-19T21:07:33.599Z"
   },
   {
    "duration": 3,
    "start_time": "2025-04-19T21:07:36.428Z"
   },
   {
    "duration": 482,
    "start_time": "2025-04-19T21:07:36.434Z"
   },
   {
    "duration": 25,
    "start_time": "2025-04-19T21:07:36.918Z"
   },
   {
    "duration": 4,
    "start_time": "2025-04-19T21:07:36.945Z"
   },
   {
    "duration": 2,
    "start_time": "2025-04-19T21:07:36.970Z"
   },
   {
    "duration": 54,
    "start_time": "2025-04-19T21:07:36.974Z"
   },
   {
    "duration": 13,
    "start_time": "2025-04-19T21:07:37.031Z"
   },
   {
    "duration": 230,
    "start_time": "2025-04-19T21:07:37.046Z"
   },
   {
    "duration": 104,
    "start_time": "2025-04-19T21:07:37.277Z"
   },
   {
    "duration": 1672,
    "start_time": "2025-04-19T21:07:37.383Z"
   },
   {
    "duration": 0,
    "start_time": "2025-04-19T21:46:04.470Z"
   },
   {
    "duration": 0,
    "start_time": "2025-04-19T21:46:04.471Z"
   },
   {
    "duration": 0,
    "start_time": "2025-04-19T21:46:04.472Z"
   },
   {
    "duration": 0,
    "start_time": "2025-04-19T21:46:04.473Z"
   },
   {
    "duration": 0,
    "start_time": "2025-04-19T21:46:04.474Z"
   },
   {
    "duration": 0,
    "start_time": "2025-04-19T21:46:04.475Z"
   },
   {
    "duration": 0,
    "start_time": "2025-04-19T21:46:04.476Z"
   },
   {
    "duration": 0,
    "start_time": "2025-04-19T21:46:04.477Z"
   },
   {
    "duration": 0,
    "start_time": "2025-04-19T21:46:04.478Z"
   },
   {
    "duration": 0,
    "start_time": "2025-04-19T21:46:04.479Z"
   },
   {
    "duration": 0,
    "start_time": "2025-04-19T21:46:04.480Z"
   },
   {
    "duration": 0,
    "start_time": "2025-04-19T21:46:04.481Z"
   },
   {
    "duration": 0,
    "start_time": "2025-04-19T21:46:04.482Z"
   },
   {
    "duration": 0,
    "start_time": "2025-04-19T21:46:04.483Z"
   },
   {
    "duration": 0,
    "start_time": "2025-04-19T21:46:04.484Z"
   },
   {
    "duration": 0,
    "start_time": "2025-04-19T21:46:04.484Z"
   },
   {
    "duration": 0,
    "start_time": "2025-04-19T21:46:04.485Z"
   },
   {
    "duration": 0,
    "start_time": "2025-04-19T21:46:04.486Z"
   },
   {
    "duration": 0,
    "start_time": "2025-04-19T21:46:04.487Z"
   },
   {
    "duration": 0,
    "start_time": "2025-04-19T21:46:04.487Z"
   },
   {
    "duration": 0,
    "start_time": "2025-04-19T21:46:04.488Z"
   },
   {
    "duration": 5,
    "start_time": "2025-04-19T21:47:33.381Z"
   },
   {
    "duration": 499,
    "start_time": "2025-04-19T21:47:33.390Z"
   },
   {
    "duration": 173,
    "start_time": "2025-04-19T21:47:33.902Z"
   },
   {
    "duration": 156,
    "start_time": "2025-04-19T21:47:34.077Z"
   },
   {
    "duration": 292,
    "start_time": "2025-04-19T21:47:34.234Z"
   },
   {
    "duration": 70,
    "start_time": "2025-04-19T21:47:34.529Z"
   },
   {
    "duration": 2775,
    "start_time": "2025-04-19T21:47:34.600Z"
   },
   {
    "duration": 2,
    "start_time": "2025-04-19T21:47:37.378Z"
   },
   {
    "duration": 452,
    "start_time": "2025-04-19T21:47:37.382Z"
   },
   {
    "duration": 34,
    "start_time": "2025-04-19T21:47:37.836Z"
   },
   {
    "duration": 5,
    "start_time": "2025-04-19T21:47:37.872Z"
   },
   {
    "duration": 3,
    "start_time": "2025-04-19T21:47:37.878Z"
   },
   {
    "duration": 53,
    "start_time": "2025-04-19T21:47:37.882Z"
   },
   {
    "duration": 33,
    "start_time": "2025-04-19T21:47:37.937Z"
   },
   {
    "duration": 207,
    "start_time": "2025-04-19T21:47:37.973Z"
   },
   {
    "duration": 189,
    "start_time": "2025-04-19T21:47:38.181Z"
   },
   {
    "duration": 1632,
    "start_time": "2025-04-19T21:47:38.372Z"
   },
   {
    "duration": 1028,
    "start_time": "2025-04-19T21:58:57.811Z"
   },
   {
    "duration": 663,
    "start_time": "2025-04-19T21:58:58.841Z"
   },
   {
    "duration": 182,
    "start_time": "2025-04-19T21:58:59.506Z"
   },
   {
    "duration": 172,
    "start_time": "2025-04-19T21:58:59.690Z"
   },
   {
    "duration": 340,
    "start_time": "2025-04-19T21:58:59.869Z"
   },
   {
    "duration": 66,
    "start_time": "2025-04-19T21:59:00.210Z"
   },
   {
    "duration": 2777,
    "start_time": "2025-04-19T21:59:00.277Z"
   },
   {
    "duration": 4,
    "start_time": "2025-04-19T21:59:03.057Z"
   },
   {
    "duration": 469,
    "start_time": "2025-04-19T21:59:03.069Z"
   },
   {
    "duration": 35,
    "start_time": "2025-04-19T21:59:03.540Z"
   },
   {
    "duration": 3,
    "start_time": "2025-04-19T21:59:03.576Z"
   },
   {
    "duration": 3,
    "start_time": "2025-04-19T21:59:03.581Z"
   },
   {
    "duration": 54,
    "start_time": "2025-04-19T21:59:03.586Z"
   },
   {
    "duration": 29,
    "start_time": "2025-04-19T21:59:03.643Z"
   },
   {
    "duration": 217,
    "start_time": "2025-04-19T21:59:03.674Z"
   },
   {
    "duration": 175,
    "start_time": "2025-04-19T21:59:03.895Z"
   },
   {
    "duration": 1632,
    "start_time": "2025-04-19T21:59:04.072Z"
   },
   {
    "duration": 2894530,
    "start_time": "2025-04-19T21:59:05.707Z"
   },
   {
    "duration": 177663,
    "start_time": "2025-04-19T22:47:20.239Z"
   },
   {
    "duration": 1287,
    "start_time": "2025-04-19T22:50:17.904Z"
   },
   {
    "duration": 24445,
    "start_time": "2025-04-19T22:50:19.193Z"
   }
  ],
  "kernelspec": {
   "display_name": "Python 3 (ipykernel)",
   "language": "python",
   "name": "python3"
  },
  "language_info": {
   "codemirror_mode": {
    "name": "ipython",
    "version": 3
   },
   "file_extension": ".py",
   "mimetype": "text/x-python",
   "name": "python",
   "nbconvert_exporter": "python",
   "pygments_lexer": "ipython3",
   "version": "3.9.19"
  },
  "toc": {
   "base_numbering": 1,
   "nav_menu": {},
   "number_sections": true,
   "sideBar": true,
   "skip_h1_title": true,
   "title_cell": "Table of Contents",
   "title_sidebar": "Contents",
   "toc_cell": false,
   "toc_position": {},
   "toc_section_display": true,
   "toc_window_display": false
  }
 },
 "nbformat": 4,
 "nbformat_minor": 2
}
